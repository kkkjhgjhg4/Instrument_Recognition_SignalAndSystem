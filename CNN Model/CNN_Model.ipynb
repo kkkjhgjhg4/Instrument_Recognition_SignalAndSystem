{
 "cells": [
  {
   "metadata": {},
   "cell_type": "markdown",
   "source": "# Feature Extration",
   "id": "d7f0c8e37a725bb4"
  },
  {
   "cell_type": "code",
   "id": "initial_id",
   "metadata": {
    "collapsed": true,
    "ExecuteTime": {
     "end_time": "2024-12-03T05:35:41.160558Z",
     "start_time": "2024-12-03T05:35:41.152318Z"
    }
   },
   "source": [
    "import librosa\n",
    "import numpy as np\n",
    "import torch\n",
    "\n",
    "def extract_features_cnn(file_path, sr=44100, n_mfcc=20):\n",
    "    # Load the audio file\n",
    "    y, sr = librosa.load(file_path, sr=sr)\n",
    "\n",
    "    # Extract features\n",
    "    rms = librosa.feature.rms(y=y).flatten()\n",
    "    spec_cent = librosa.feature.spectral_centroid(y=y, sr=sr).flatten()\n",
    "    spec_bw = librosa.feature.spectral_bandwidth(y=y, sr=sr).flatten()\n",
    "    rolloff = librosa.feature.spectral_rolloff(y=y, sr=sr).flatten()\n",
    "    zcr = librosa.feature.zero_crossing_rate(y).flatten()\n",
    "    mfcc = librosa.feature.mfcc(y=y, sr=sr, n_mfcc=n_mfcc)\n",
    "\n",
    "    # Stack features into a 2D \"image\"\n",
    "    features = np.vstack([rms, spec_cent, spec_bw, rolloff, zcr, mfcc])\n",
    "    return features  # Shape: (25, num_frames)"
   ],
   "outputs": [],
   "execution_count": 6
  },
  {
   "metadata": {},
   "cell_type": "markdown",
   "source": "# Data Preparation",
   "id": "5f6982c3a00742bb"
  },
  {
   "metadata": {
    "ExecuteTime": {
     "end_time": "2024-12-03T05:35:42.227571Z",
     "start_time": "2024-12-03T05:35:42.178060Z"
    }
   },
   "cell_type": "code",
   "source": [
    "import os\n",
    "from sklearn.preprocessing import LabelEncoder\n",
    "from sklearn.model_selection import train_test_split\n",
    "from torch.utils.data import Dataset, DataLoader\n",
    "import torch\n",
    "import pickle\n",
    "\n",
    "# Define the custom Dataset class\n",
    "class InstrumentDataset(Dataset):\n",
    "    def __init__(self, dataset_path, instruments, label_encoder, transform=None):\n",
    "        self.dataset_path = dataset_path\n",
    "        self.instruments = instruments\n",
    "        self.label_encoder = label_encoder\n",
    "        self.transform = transform\n",
    "\n",
    "        # Collect file paths and labels\n",
    "        self.file_paths = []\n",
    "        self.labels = []\n",
    "\n",
    "        for instrument in instruments:\n",
    "            folder_path = os.path.join(dataset_path, instrument)\n",
    "            for filename in os.listdir(folder_path):\n",
    "                self.file_paths.append(os.path.join(folder_path, filename))\n",
    "                self.labels.append(instrument)\n",
    "\n",
    "        # Encode labels\n",
    "        self.labels = label_encoder.fit_transform(self.labels)\n",
    "\n",
    "    def __len__(self):\n",
    "        return len(self.file_paths)\n",
    "\n",
    "    def __getitem__(self, idx):\n",
    "        file_path = self.file_paths[idx]\n",
    "        label = self.labels[idx]\n",
    "\n",
    "        # Extract features\n",
    "        features = extract_features_cnn(file_path)\n",
    "        features = torch.tensor(features, dtype=torch.float32)\n",
    "\n",
    "        # Apply transformations if provided\n",
    "        if self.transform:\n",
    "            features = self.transform(features)\n",
    "\n",
    "        # Add a channel dimension for CNN\n",
    "        features = features.unsqueeze(0)  # Shape: (1, 25, num_frames)\n",
    "\n",
    "        return features, label\n",
    "\n",
    "\n",
    "# Dataset path and instruments\n",
    "dataset_path = \"./../IRMAS/IRMAS-TrainingData\"\n",
    "instruments = 'flu pia tru org gac voi cel cla gel sax vio'.split()\n",
    "\n",
    "# Label encoder\n",
    "label_encoder = LabelEncoder()\n",
    "\n",
    "# Create dataset and dataloader\n",
    "total_dataset = InstrumentDataset(dataset_path, instruments, label_encoder)\n",
    "\n",
    "# Split dataset into training and test sets\n",
    "dataset_size = len(total_dataset)\n",
    "indices = list(range(dataset_size))\n",
    "train_indices, test_indices = train_test_split(indices, test_size=0.2, random_state=42)\n",
    "\n",
    "# Subset datasets\n",
    "train_subset = torch.utils.data.Subset(total_dataset, train_indices)\n",
    "test_subset = torch.utils.data.Subset(total_dataset, test_indices)\n",
    "\n",
    "\n",
    "# Save the label encoder for later\n",
    "with open(\"label_encoder_cnn.pkl\", \"wb\") as file:\n",
    "    pickle.dump(label_encoder, file)"
   ],
   "id": "36c74c88c3c173d9",
   "outputs": [],
   "execution_count": 7
  },
  {
   "metadata": {},
   "cell_type": "markdown",
   "source": "# CNN Model\n",
   "id": "5defc030ea6b9e8d"
  },
  {
   "metadata": {
    "ExecuteTime": {
     "end_time": "2024-12-03T04:52:25.534253Z",
     "start_time": "2024-12-03T04:52:25.526876Z"
    }
   },
   "cell_type": "code",
   "source": [
    "import torch.nn as nn\n",
    "import torch.nn.functional as F\n",
    "\n",
    "class AudioCNN(nn.Module):\n",
    "    def __init__(self, num_classes):\n",
    "        super(AudioCNN, self).__init__()\n",
    "        \n",
    "        # Convolutional layers\n",
    "        self.conv1 = nn.Conv2d(1, 32, kernel_size=(3, 3), stride=1, padding=1)\n",
    "        self.conv2 = nn.Conv2d(32, 64, kernel_size=(3, 3), stride=1, padding=1)\n",
    "        self.pool = nn.MaxPool2d(kernel_size=(2, 2), stride=2)\n",
    "        self.dropout = nn.Dropout(0.5)\n",
    "        \n",
    "        # Calculate flattened size dynamically\n",
    "        dummy_input = torch.zeros(1, 1, 25, 258)  # (Batch size, Channels, Height, Width)\n",
    "        with torch.no_grad():\n",
    "            dummy_output = self.pool(self.pool(F.relu(self.conv2(F.relu(self.conv1(dummy_input))))))\n",
    "        flattened_size = dummy_output.numel()  # Use .numel() to get the total number of elements\n",
    "        \n",
    "        self.fc1 = nn.Linear(flattened_size, 128)\n",
    "        self.fc2 = nn.Linear(128, num_classes)\n",
    "\n",
    "    def forward(self, x):\n",
    "        x = F.relu(self.conv1(x))\n",
    "        x = F.relu(self.conv2(x))\n",
    "        x = self.pool(x)\n",
    "        x = self.pool(x)\n",
    "        x = x.view(x.size(0), -1)  # Flatten the tensor\n",
    "        x = F.relu(self.fc1(x))\n",
    "        x = self.dropout(x)\n",
    "        x = self.fc2(x)\n",
    "        return x"
   ],
   "id": "179b08d0d70f1b72",
   "outputs": [],
   "execution_count": 4
  },
  {
   "metadata": {},
   "cell_type": "markdown",
   "source": "## CNN Training\n",
   "id": "aa92a2816e380064"
  },
  {
   "metadata": {
    "jupyter": {
     "is_executing": true
    },
    "ExecuteTime": {
     "start_time": "2024-12-03T05:39:18.409222Z"
    }
   },
   "cell_type": "code",
   "source": [
    "import torch.optim as optim\n",
    "from tqdm import tqdm\n",
    "\n",
    "# Model initialization\n",
    "device = torch.device(\"cuda\" if torch.cuda.is_available() else \"cpu\")\n",
    "num_classes = len(instruments)  # Number of instrument classes\n",
    "model = AudioCNN(num_classes).to(device)\n",
    "\n",
    "# Loss function and optimizer\n",
    "criterion = nn.CrossEntropyLoss()\n",
    "optimizer = optim.Adam(model.parameters(), lr=0.001)\n",
    "\n",
    "# Training loop\n",
    "epochs = 5\n",
    "train_loader = DataLoader(train_subset, batch_size=64, shuffle=True)\n",
    "\n",
    "train_accuracies = []\n",
    "epoch_losses = []\n",
    "\n",
    "for epoch in range(epochs):\n",
    "    model.train()\n",
    "    running_loss = 0.0\n",
    "    correct = 0\n",
    "    total = 0\n",
    "    \n",
    "    for inputs, labels in tqdm(train_loader):\n",
    "        inputs, labels = inputs.to(device), labels.to(device)\n",
    "\n",
    "        # Zero the parameter gradients\n",
    "        optimizer.zero_grad()\n",
    "\n",
    "        # Forward pass\n",
    "        outputs = model(inputs)\n",
    "        loss = criterion(outputs, labels)\n",
    "\n",
    "        # Backward pass and optimization\n",
    "        loss.backward()\n",
    "        optimizer.step()\n",
    "\n",
    "        running_loss += loss.item()\n",
    "\n",
    "        # Calculate training accuracy\n",
    "        preds = torch.argmax(outputs, dim=1)\n",
    "        correct += (preds == labels).sum().item()\n",
    "        total += labels.size(0)\n",
    "    \n",
    "    epoch_loss = running_loss / len(train_loader)\n",
    "    epoch_accuracy = correct / total\n",
    "    epoch_losses.append(epoch_loss)\n",
    "    train_accuracies.append(epoch_accuracy)\n",
    "    \n",
    "    print(f\"Epoch {epoch+1}/{epochs}, Loss: {epoch_loss:.4f}, Accuracy: {epoch_accuracy:.4f}\")\n"
   ],
   "id": "fe5a43ad364745ac",
   "outputs": [
    {
     "name": "stderr",
     "output_type": "stream",
     "text": [
      " 37%|███▋      | 31/84 [00:53<01:31,  1.73s/it]"
     ]
    }
   ],
   "execution_count": null
  },
  {
   "metadata": {},
   "cell_type": "markdown",
   "source": "## Plot Accuracy per Epoch\n",
   "id": "e87d0870cea9b7c"
  },
  {
   "metadata": {
    "ExecuteTime": {
     "end_time": "2024-12-03T05:39:01.508652Z",
     "start_time": "2024-12-03T05:39:01.388665Z"
    }
   },
   "cell_type": "code",
   "source": [
    "import matplotlib.pyplot as plt\n",
    "\n",
    "# Plot accuracy\n",
    "plt.figure(figsize=(10, 6))\n",
    "plt.plot(range(1, epochs + 1), train_accuracies, marker='o', label='Training Accuracy')\n",
    "plt.xlabel('Epoch')\n",
    "plt.ylabel('Accuracy')\n",
    "plt.title('Training Accuracy per Epoch')\n",
    "plt.grid(True)\n",
    "plt.legend()\n",
    "plt.show()\n",
    "\n",
    "# Plot loss\n",
    "plt.figure(figsize=(10, 6))\n",
    "plt.plot(range(1, epochs + 1), epoch_losses, marker='o', label='Training Loss', color='red')\n",
    "plt.xlabel('Epoch')\n",
    "plt.ylabel('Loss')\n",
    "plt.title('Training Loss per Epoch')\n",
    "plt.grid(True)\n",
    "plt.legend()\n",
    "plt.show()"
   ],
   "id": "45be0ad9118fb292",
   "outputs": [
    {
     "ename": "NameError",
     "evalue": "name 'train_accuracies' is not defined",
     "output_type": "error",
     "traceback": [
      "\u001B[0;31m---------------------------------------------------------------------------\u001B[0m",
      "\u001B[0;31mNameError\u001B[0m                                 Traceback (most recent call last)",
      "Cell \u001B[0;32mIn[8], line 5\u001B[0m\n\u001B[1;32m      3\u001B[0m \u001B[38;5;66;03m# Plot accuracy\u001B[39;00m\n\u001B[1;32m      4\u001B[0m plt\u001B[38;5;241m.\u001B[39mfigure(figsize\u001B[38;5;241m=\u001B[39m(\u001B[38;5;241m10\u001B[39m, \u001B[38;5;241m6\u001B[39m))\n\u001B[0;32m----> 5\u001B[0m plt\u001B[38;5;241m.\u001B[39mplot(\u001B[38;5;28mrange\u001B[39m(\u001B[38;5;241m1\u001B[39m, epochs \u001B[38;5;241m+\u001B[39m \u001B[38;5;241m1\u001B[39m), \u001B[43mtrain_accuracies\u001B[49m, marker\u001B[38;5;241m=\u001B[39m\u001B[38;5;124m'\u001B[39m\u001B[38;5;124mo\u001B[39m\u001B[38;5;124m'\u001B[39m, label\u001B[38;5;241m=\u001B[39m\u001B[38;5;124m'\u001B[39m\u001B[38;5;124mTraining Accuracy\u001B[39m\u001B[38;5;124m'\u001B[39m)\n\u001B[1;32m      6\u001B[0m plt\u001B[38;5;241m.\u001B[39mxlabel(\u001B[38;5;124m'\u001B[39m\u001B[38;5;124mEpoch\u001B[39m\u001B[38;5;124m'\u001B[39m)\n\u001B[1;32m      7\u001B[0m plt\u001B[38;5;241m.\u001B[39mylabel(\u001B[38;5;124m'\u001B[39m\u001B[38;5;124mAccuracy\u001B[39m\u001B[38;5;124m'\u001B[39m)\n",
      "\u001B[0;31mNameError\u001B[0m: name 'train_accuracies' is not defined"
     ]
    },
    {
     "data": {
      "text/plain": [
       "<Figure size 1000x600 with 0 Axes>"
      ]
     },
     "metadata": {},
     "output_type": "display_data"
    }
   ],
   "execution_count": 8
  },
  {
   "metadata": {},
   "cell_type": "markdown",
   "source": "## Save the Model",
   "id": "190ed16e229a0a60"
  },
  {
   "metadata": {},
   "cell_type": "code",
   "source": [
    "# Save the trained model\n",
    "torch.save(model.state_dict(), \"cnn_instrument_recognizer.pth\")"
   ],
   "id": "4f4fc85ff779ecd7",
   "outputs": [],
   "execution_count": null
  },
  {
   "metadata": {},
   "cell_type": "markdown",
   "source": "## Accuracy Analysis",
   "id": "d1f0f7aca382e176"
  },
  {
   "metadata": {},
   "cell_type": "code",
   "source": [
    "from sklearn.metrics import accuracy_score, precision_score, recall_score, confusion_matrix\n",
    "import seaborn as sns\n",
    "import matplotlib.pyplot as plt\n",
    "\n",
    "# Prepare test data\n",
    "test_loader = DataLoader(test_subset, batch_size=128, shuffle=False)\n",
    "\n",
    "# Evaluate the model\n",
    "model.eval()\n",
    "all_preds = []\n",
    "all_labels = []\n",
    "\n",
    "with torch.no_grad():\n",
    "    for inputs, labels in test_loader:\n",
    "        inputs, labels = inputs.to(device), labels.to(device)\n",
    "        outputs = model(inputs)\n",
    "        preds = torch.argmax(outputs, dim=1)\n",
    "        all_preds.extend(preds.cpu().numpy())\n",
    "        all_labels.extend(labels.cpu().numpy())\n",
    "\n",
    "# Metrics\n",
    "accuracy = accuracy_score(all_labels, all_preds)\n",
    "precision = precision_score(all_labels, all_preds, average='macro')\n",
    "recall = recall_score(all_labels, all_preds, average='macro')\n",
    "conf_matrix = confusion_matrix(all_labels, all_preds)\n",
    "\n",
    "print(f\"Accuracy: {accuracy:.4f}\")\n",
    "print(f\"Precision: {precision:.4f}\")\n",
    "print(f\"Recall: {recall:.4f}\")\n",
    "\n",
    "# Confusion Matrix Visualization\n",
    "plt.figure(figsize=(10, 8))\n",
    "sns.heatmap(conf_matrix, annot=True, fmt='d', cmap='Blues', xticklabels=label_encoder.classes_, yticklabels=label_encoder.classes_)\n",
    "plt.xlabel(\"Predicted\")\n",
    "plt.ylabel(\"Actual\")\n",
    "plt.title(\"Confusion Matrix\")\n",
    "plt.show()"
   ],
   "id": "4b1768e28f16c87",
   "outputs": [],
   "execution_count": null
  },
  {
   "metadata": {},
   "cell_type": "markdown",
   "source": "",
   "id": "3e8f28c7768cced0"
  }
 ],
 "metadata": {
  "kernelspec": {
   "display_name": "Python 3",
   "language": "python",
   "name": "python3"
  },
  "language_info": {
   "codemirror_mode": {
    "name": "ipython",
    "version": 2
   },
   "file_extension": ".py",
   "mimetype": "text/x-python",
   "name": "python",
   "nbconvert_exporter": "python",
   "pygments_lexer": "ipython2",
   "version": "2.7.6"
  }
 },
 "nbformat": 4,
 "nbformat_minor": 5
}
