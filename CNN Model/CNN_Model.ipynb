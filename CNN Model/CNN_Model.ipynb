{
 "cells": [
  {
   "metadata": {},
   "cell_type": "markdown",
   "source": "# Feature Extration",
   "id": "d7f0c8e37a725bb4"
  },
  {
   "cell_type": "code",
   "id": "initial_id",
   "metadata": {
    "collapsed": true,
    "ExecuteTime": {
     "end_time": "2024-12-03T03:17:51.869645Z",
     "start_time": "2024-12-03T03:17:51.862432Z"
    }
   },
   "source": [
    "import librosa\n",
    "import numpy as np\n",
    "import torch\n",
    "\n",
    "def extract_features_cnn(file_path, sr=44100, n_mfcc=20):\n",
    "    # Load the audio file\n",
    "    y, sr = librosa.load(file_path, sr=sr)\n",
    "\n",
    "    # Extract features\n",
    "    rms = librosa.feature.rms(y=y).flatten()\n",
    "    spec_cent = librosa.feature.spectral_centroid(y=y, sr=sr).flatten()\n",
    "    spec_bw = librosa.feature.spectral_bandwidth(y=y, sr=sr).flatten()\n",
    "    rolloff = librosa.feature.spectral_rolloff(y=y, sr=sr).flatten()\n",
    "    zcr = librosa.feature.zero_crossing_rate(y).flatten()\n",
    "    mfcc = librosa.feature.mfcc(y=y, sr=sr, n_mfcc=n_mfcc)\n",
    "\n",
    "    # Stack features into a 2D \"image\"\n",
    "    features = np.vstack([rms, spec_cent, spec_bw, rolloff, zcr, mfcc])\n",
    "    return features  # Shape: (25, num_frames)"
   ],
   "outputs": [],
   "execution_count": 27
  },
  {
   "metadata": {},
   "cell_type": "markdown",
   "source": "# Data Preparation",
   "id": "5f6982c3a00742bb"
  },
  {
   "metadata": {
    "ExecuteTime": {
     "end_time": "2024-12-03T04:31:54.293519Z",
     "start_time": "2024-12-03T04:31:54.245242Z"
    }
   },
   "cell_type": "code",
   "source": [
    "import os\n",
    "from sklearn.preprocessing import LabelEncoder\n",
    "from sklearn.model_selection import train_test_split\n",
    "from torch.utils.data import Dataset, DataLoader\n",
    "import torch\n",
    "import pickle\n",
    "\n",
    "# Define the custom Dataset class\n",
    "class InstrumentDataset(Dataset):\n",
    "    def __init__(self, dataset_path, instruments, label_encoder, transform=None):\n",
    "        self.dataset_path = dataset_path\n",
    "        self.instruments = instruments\n",
    "        self.label_encoder = label_encoder\n",
    "        self.transform = transform\n",
    "\n",
    "        # Collect file paths and labels\n",
    "        self.file_paths = []\n",
    "        self.labels = []\n",
    "\n",
    "        for instrument in instruments:\n",
    "            folder_path = os.path.join(dataset_path, instrument)\n",
    "            for filename in os.listdir(folder_path):\n",
    "                self.file_paths.append(os.path.join(folder_path, filename))\n",
    "                self.labels.append(instrument)\n",
    "\n",
    "        # Encode labels\n",
    "        self.labels = label_encoder.fit_transform(self.labels)\n",
    "\n",
    "    def __len__(self):\n",
    "        return len(self.file_paths)\n",
    "\n",
    "    def __getitem__(self, idx):\n",
    "        file_path = self.file_paths[idx]\n",
    "        label = self.labels[idx]\n",
    "\n",
    "        # Extract features\n",
    "        features = extract_features_cnn(file_path)\n",
    "        features = torch.tensor(features, dtype=torch.float32)\n",
    "\n",
    "        # Apply transformations if provided\n",
    "        if self.transform:\n",
    "            features = self.transform(features)\n",
    "\n",
    "        # Add a channel dimension for CNN\n",
    "        features = features.unsqueeze(0)  # Shape: (1, 25, num_frames)\n",
    "\n",
    "        return features, label\n",
    "\n",
    "\n",
    "# Dataset path and instruments\n",
    "dataset_path = \"./../IRMAS/IRMAS-TrainingData\"\n",
    "instruments = 'flu pia tru org gac voi cel cla gel sax vio'.split()\n",
    "\n",
    "# Label encoder\n",
    "label_encoder = LabelEncoder()\n",
    "\n",
    "# Create dataset and dataloader\n",
    "total_dataset = InstrumentDataset(dataset_path, instruments, label_encoder)\n",
    "\n",
    "# Split dataset into training and test sets\n",
    "dataset_size = len(total_dataset)\n",
    "indices = list(range(dataset_size))\n",
    "train_indices, test_indices = train_test_split(indices, test_size=0.2, random_state=42)\n",
    "\n",
    "# Subset datasets\n",
    "train_subset = torch.utils.data.Subset(total_dataset, train_indices)\n",
    "test_subset = torch.utils.data.Subset(total_dataset, test_indices)\n",
    "\n",
    "\n",
    "# Save the label encoder for later\n",
    "with open(\"label_encoder_cnn.pkl\", \"wb\") as file:\n",
    "    pickle.dump(label_encoder, file)"
   ],
   "id": "36c74c88c3c173d9",
   "outputs": [],
   "execution_count": 41
  },
  {
   "metadata": {},
   "cell_type": "markdown",
   "source": "# CNN Model\n",
   "id": "5defc030ea6b9e8d"
  },
  {
   "metadata": {
    "ExecuteTime": {
     "end_time": "2024-12-03T04:31:56.974228Z",
     "start_time": "2024-12-03T04:31:56.967113Z"
    }
   },
   "cell_type": "code",
   "source": [
    "import torch.nn as nn\n",
    "import torch.nn.functional as F\n",
    "\n",
    "class AudioCNN(nn.Module):\n",
    "    def __init__(self, num_classes):\n",
    "        super(AudioCNN, self).__init__()\n",
    "        \n",
    "        # Convolutional layers\n",
    "        self.conv1 = nn.Conv2d(1, 32, kernel_size=(3, 3), stride=1, padding=1)\n",
    "        self.conv2 = nn.Conv2d(32, 64, kernel_size=(3, 3), stride=1, padding=1)\n",
    "        self.pool = nn.MaxPool2d(kernel_size=(2, 2), stride=2)\n",
    "        self.dropout = nn.Dropout(0.5)\n",
    "        \n",
    "        # Calculate flattened size dynamically\n",
    "        dummy_input = torch.zeros(1, 1, 25, 258)  # (Batch size, Channels, Height, Width)\n",
    "        with torch.no_grad():\n",
    "            dummy_output = self.pool(self.pool(F.relu(self.conv2(F.relu(self.conv1(dummy_input))))))\n",
    "        flattened_size = dummy_output.numel()  # Use .numel() to get the total number of elements\n",
    "        \n",
    "        self.fc1 = nn.Linear(flattened_size, 128)\n",
    "        self.fc2 = nn.Linear(128, num_classes)\n",
    "\n",
    "    def forward(self, x):\n",
    "        x = F.relu(self.conv1(x))\n",
    "        x = F.relu(self.conv2(x))\n",
    "        x = self.pool(x)\n",
    "        x = self.pool(x)\n",
    "        x = x.view(x.size(0), -1)  # Flatten the tensor\n",
    "        x = F.relu(self.fc1(x))\n",
    "        x = self.dropout(x)\n",
    "        x = self.fc2(x)\n",
    "        return x"
   ],
   "id": "179b08d0d70f1b72",
   "outputs": [],
   "execution_count": 42
  },
  {
   "metadata": {},
   "cell_type": "markdown",
   "source": "## CNN Training\n",
   "id": "aa92a2816e380064"
  },
  {
   "metadata": {
    "jupyter": {
     "is_executing": true
    },
    "ExecuteTime": {
     "start_time": "2024-12-03T04:43:16.324240Z"
    }
   },
   "cell_type": "code",
   "source": [
    "import torch.optim as optim\n",
    "from tqdm import tqdm\n",
    "\n",
    "# Model initialization\n",
    "device = torch.device(\"cuda\" if torch.cuda.is_available() else \"cpu\")\n",
    "num_classes = len(instruments)  # Number of instrument classes\n",
    "model = AudioCNN(num_classes).to(device)\n",
    "\n",
    "# Loss function and optimizer\n",
    "criterion = nn.CrossEntropyLoss()\n",
    "optimizer = optim.Adam(model.parameters(), lr=0.001)\n",
    "\n",
    "# Training loop\n",
    "epochs = 3\n",
    "# Data loaders for training\n",
    "train_loader = DataLoader(train_subset, batch_size=64, shuffle=True)\n",
    "\n",
    "for epoch in range(epochs):\n",
    "    model.train()\n",
    "    running_loss = 0.0\n",
    "    for inputs, labels in tqdm(train_loader):\n",
    "        inputs, labels = inputs.to(device), labels.to(device)\n",
    "\n",
    "        # Zero the parameter gradients\n",
    "        optimizer.zero_grad()\n",
    "\n",
    "        # Forward pass\n",
    "        outputs = model(inputs)\n",
    "        loss = criterion(outputs, labels)\n",
    "\n",
    "        # Backward pass and optimization\n",
    "        loss.backward()\n",
    "        optimizer.step()\n",
    "\n",
    "        running_loss += loss.item()\n",
    "\n",
    "    print(f\"Epoch {epoch+1}/{epochs}, Loss: {running_loss/len(train_loader):.4f}\")\n",
    "\n"
   ],
   "id": "fe5a43ad364745ac",
   "outputs": [
    {
     "name": "stderr",
     "output_type": "stream",
     "text": [
      " 13%|█▎        | 11/84 [00:19<02:06,  1.73s/it]"
     ]
    }
   ],
   "execution_count": null
  },
  {
   "metadata": {},
   "cell_type": "markdown",
   "source": "## Save the Model",
   "id": "190ed16e229a0a60"
  },
  {
   "metadata": {
    "ExecuteTime": {
     "end_time": "2024-12-03T04:41:57.436564Z",
     "start_time": "2024-12-03T04:41:57.414649Z"
    }
   },
   "cell_type": "code",
   "source": [
    "# Save the trained model\n",
    "torch.save(model.state_dict(), \"cnn_instrument_recognizer.pth\")"
   ],
   "id": "4f4fc85ff779ecd7",
   "outputs": [],
   "execution_count": 44
  },
  {
   "metadata": {},
   "cell_type": "markdown",
   "source": "## Accuracy Analysis",
   "id": "d1f0f7aca382e176"
  },
  {
   "metadata": {
    "ExecuteTime": {
     "end_time": "2024-12-03T04:42:34.078836Z",
     "start_time": "2024-12-03T04:42:02.490555Z"
    }
   },
   "cell_type": "code",
   "source": [
    "from sklearn.metrics import accuracy_score, precision_score, recall_score, confusion_matrix\n",
    "import seaborn as sns\n",
    "import matplotlib.pyplot as plt\n",
    "\n",
    "# Prepare test data\n",
    "test_loader = DataLoader(test_subset, batch_size=128, shuffle=False)\n",
    "\n",
    "# Evaluate the model\n",
    "model.eval()\n",
    "all_preds = []\n",
    "all_labels = []\n",
    "\n",
    "with torch.no_grad():\n",
    "    for inputs, labels in test_loader:\n",
    "        inputs, labels = inputs.to(device), labels.to(device)\n",
    "        outputs = model(inputs)\n",
    "        preds = torch.argmax(outputs, dim=1)\n",
    "        all_preds.extend(preds.cpu().numpy())\n",
    "        all_labels.extend(labels.cpu().numpy())\n",
    "\n",
    "# Metrics\n",
    "accuracy = accuracy_score(all_labels, all_preds)\n",
    "precision = precision_score(all_labels, all_preds, average='macro')\n",
    "recall = recall_score(all_labels, all_preds, average='macro')\n",
    "conf_matrix = confusion_matrix(all_labels, all_preds)\n",
    "\n",
    "print(f\"Accuracy: {accuracy:.4f}\")\n",
    "print(f\"Precision: {precision:.4f}\")\n",
    "print(f\"Recall: {recall:.4f}\")\n",
    "\n",
    "# Confusion Matrix Visualization\n",
    "plt.figure(figsize=(10, 8))\n",
    "sns.heatmap(conf_matrix, annot=True, fmt='d', cmap='Blues', xticklabels=label_encoder.classes_, yticklabels=label_encoder.classes_)\n",
    "plt.xlabel(\"Predicted\")\n",
    "plt.ylabel(\"Actual\")\n",
    "plt.title(\"Confusion Matrix\")\n",
    "plt.show()"
   ],
   "id": "4b1768e28f16c87",
   "outputs": [
    {
     "name": "stderr",
     "output_type": "stream",
     "text": [
      "/Users/huangbingqi/Documents/2024_Autumn_Semester/Instrument_Recognition_SignalAndSystem/.venv/lib/python3.9/site-packages/sklearn/metrics/_classification.py:1531: UndefinedMetricWarning: Precision is ill-defined and being set to 0.0 in labels with no predicted samples. Use `zero_division` parameter to control this behavior.\n",
      "  _warn_prf(average, modifier, f\"{metric.capitalize()} is\", len(result))\n"
     ]
    },
    {
     "name": "stdout",
     "output_type": "stream",
     "text": [
      "Accuracy: 0.1976\n",
      "Precision: 0.1405\n",
      "Recall: 0.1718\n"
     ]
    },
    {
     "data": {
      "text/plain": [
       "<Figure size 1000x800 with 2 Axes>"
      ],
      "image/png": "[encoded data removed]"
     },
     "metadata": {},
     "output_type": "display_data"
    }
   ],
   "execution_count": 46
  },
  {
   "metadata": {},
   "cell_type": "markdown",
   "source": "",
   "id": "3e8f28c7768cced0"
  }
 ],
 "metadata": {
  "kernelspec": {
   "display_name": "Python 3",
   "language": "python",
   "name": "python3"
  },
  "language_info": {
   "codemirror_mode": {
    "name": "ipython",
    "version": 2
   },
   "file_extension": ".py",
   "mimetype": "text/x-python",
   "name": "python",
   "nbconvert_exporter": "python",
   "pygments_lexer": "ipython2",
   "version": "2.7.6"
  }
 },
 "nbformat": 4,
 "nbformat_minor": 5
}
