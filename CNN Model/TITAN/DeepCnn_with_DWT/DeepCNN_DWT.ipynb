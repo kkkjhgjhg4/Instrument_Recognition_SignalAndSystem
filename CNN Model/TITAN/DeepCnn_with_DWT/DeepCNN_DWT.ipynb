{
 "cells": [
  {
   "metadata": {},
   "cell_type": "markdown",
   "source": [
    "# Feature Extration"
   ],
   "id": "957290e23bfc0220"
  },
  {
   "cell_type": "code",
   "execution_count": 1,
   "id": "initial_id",
   "metadata": {
    "collapsed": true,
    "ExecuteTime": {
     "end_time": "2024-12-04T14:16:33.553533887Z",
     "start_time": "2024-12-04T14:10:42.840276590Z"
    }
   },
   "outputs": [
    {
     "name": "stderr",
     "output_type": "stream",
     "text": [
      "Processing gac: 100%|██████████| 637/637 [00:33<00:00, 19.28it/s]\n",
      "Processing org: 100%|██████████| 682/682 [00:35<00:00, 18.99it/s]\n",
      "Processing gel: 100%|██████████| 760/760 [00:38<00:00, 19.66it/s]\n",
      "Processing tru: 100%|██████████| 577/577 [00:30<00:00, 19.10it/s]\n",
      "Processing flu: 100%|██████████| 451/451 [00:23<00:00, 18.88it/s]\n",
      "Processing sax: 100%|██████████| 626/626 [00:31<00:00, 19.80it/s]\n",
      "Processing cel: 100%|██████████| 388/388 [00:20<00:00, 19.22it/s]\n",
      "Processing voi: 100%|██████████| 778/778 [00:40<00:00, 19.20it/s]\n",
      "Processing vio: 100%|██████████| 580/580 [00:29<00:00, 19.59it/s]\n",
      "Processing cla: 100%|██████████| 505/505 [00:27<00:00, 18.61it/s]\n",
      "Processing pia: 100%|██████████| 721/721 [00:36<00:00, 19.73it/s]\n",
      "Processing Test Data: 100%|██████████| 3/3 [00:00<00:00, 28926.23it/s]\n",
      "Processing Test Data: 100%|██████████| 3/3 [00:00<00:00, 13781.94it/s]\n"
     ]
    }
   ],
   "source": [
    "import os\n",
    "import librosa\n",
    "import pywt\n",
    "import numpy as np\n",
    "from tqdm import tqdm\n",
    "import scipy.stats\n",
    "\n",
    "# Function to preprocess audio (mono and normalize)\n",
    "def preprocess_audio(file_path, target_sr=22050):\n",
    "    # Load audio as mono and resample to target sample rate\n",
    "    y, sr = librosa.load(file_path, sr=target_sr, mono=True)\n",
    "\n",
    "    # Normalize the audio\n",
    "    y = y / np.max(np.abs(y))\n",
    "\n",
    "    return y, sr\n",
    "\n",
    "# Function to extract Mel-Spectrogram and MFCC features\n",
    "def extract_mel_mfcc(file_path, sr=22050, n_mels=128, n_mfcc=20):\n",
    "    # Preprocess the audio\n",
    "    y, sr = preprocess_audio(file_path, sr)\n",
    "    mel_spec = librosa.feature.melspectrogram(y=y, sr=sr, n_mels=n_mels)\n",
    "    mfcc = librosa.feature.mfcc(S=librosa.power_to_db(mel_spec), n_mfcc=n_mfcc)\n",
    "    return mel_spec, mfcc\n",
    "\n",
    "# Function to extract DWT-based statistical features\n",
    "def extract_dwt_features(file_path, wavelet='db4', level=5, fixed_size=250):\n",
    "    # Preprocess the audio\n",
    "    y, sr = preprocess_audio(file_path)\n",
    "\n",
    "    coeffs = pywt.wavedec(y, wavelet, level=level)\n",
    "    features = []\n",
    "    for c in coeffs:\n",
    "        stats = [np.mean(c), np.var(c), np.std(c),\n",
    "                 np.mean(np.abs(c)), np.mean(c**2),\n",
    "                 scipy.stats.skew(c), scipy.stats.entropy(np.abs(c))]\n",
    "        features.extend(stats)\n",
    "\n",
    "    # Ensure fixed size (truncate or pad as needed)\n",
    "    if len(features) > fixed_size:\n",
    "        features = features[:fixed_size]  # Truncate to fixed_size\n",
    "    else:\n",
    "        features = np.pad(features, (0, fixed_size - len(features)), 'constant')  # Pad with zeros\n",
    "    return np.array(features)\n",
    "\n",
    "# Function to process training data\n",
    "def process_training_data(train_dir, save_path):\n",
    "    feature_data = []\n",
    "    labels = []\n",
    "    for subdir in os.listdir(train_dir):\n",
    "        subfolder_path = os.path.join(train_dir, subdir)\n",
    "        if os.path.isdir(subfolder_path):\n",
    "            for file in tqdm(os.listdir(subfolder_path), desc=f\"Processing {subdir}\"):\n",
    "                if file.endswith(\".wav\"):\n",
    "                    file_path = os.path.join(subfolder_path, file)\n",
    "                    mel_spec, mfcc = extract_mel_mfcc(file_path)\n",
    "                    dwt_features = extract_dwt_features(file_path)\n",
    "                    label = subdir  # Subfolder name as the label\n",
    "                    feature_data.append({'mel_spec': mel_spec, 'mfcc': mfcc, 'dwt': dwt_features})\n",
    "                    labels.append(label)\n",
    "    np.savez(save_path, features=feature_data, labels=labels)\n",
    "\n",
    "# Function to process testing data\n",
    "def process_testing_data(test_dir, save_path):\n",
    "    feature_data = []\n",
    "    labels = []\n",
    "    for file in tqdm(os.listdir(test_dir), desc=\"Processing Test Data\"):\n",
    "        if file.endswith(\".wav\"):\n",
    "            file_path = os.path.join(test_dir, file)\n",
    "            txt_file_path = os.path.splitext(file_path)[0] + \".txt\"\n",
    "            mel_spec, mfcc = extract_mel_mfcc(file_path)\n",
    "            dwt_features = extract_dwt_features(file_path)\n",
    "\n",
    "            # Read labels from the corresponding .txt file\n",
    "            with open(txt_file_path, \"r\") as txt_file:\n",
    "                file_labels = txt_file.read().splitlines()  # Multi-labels\n",
    "            feature_data.append({'mel_spec': mel_spec, 'mfcc': mfcc, 'dwt': dwt_features})\n",
    "            labels.append(file_labels)\n",
    "    np.savez(save_path, features=feature_data, labels=labels)\n",
    "\n",
    "# Process training and testing data\n",
    "train_dir = \"./../../../IRMAS/IRMAS-TrainingData\"\n",
    "test_dir_part1 = \"./../../../IRMAS/IRMAS-TestingData-Part1\"\n",
    "test_dir_part2 = \"./../../../IRMAS/IRMAS-TestingData-Part2\"\n",
    "\n",
    "# Save paths\n",
    "save_path_train = \"train_features.npz\"\n",
    "save_path_test_part1 = \"test_features_part1.npz\"\n",
    "save_path_test_part2 = \"test_features_part2.npz\"\n",
    "\n",
    "# Process and save\n",
    "process_training_data(train_dir, save_path_train)\n",
    "process_testing_data(test_dir_part1, save_path_test_part1)\n",
    "process_testing_data(test_dir_part2, save_path_test_part2)"
   ]
  },
  {
   "metadata": {},
   "cell_type": "markdown",
   "source": [
    "# Data Preparation\n"
   ],
   "id": "aa063d2dab3330ba"
  },
  {
   "metadata": {
    "ExecuteTime": {
     "end_time": "2024-12-04T14:44:10.476575640Z",
     "start_time": "2024-12-04T14:44:08.273298177Z"
    }
   },
   "cell_type": "code",
   "outputs": [
    {
     "name": "stdout",
     "output_type": "stream",
     "text": [
      "Label mapping: {'cel': 0, 'cla': 1, 'flu': 2, 'gac': 3, 'gel': 4, 'org': 5, 'pia': 6, 'sax': 7, 'tru': 8, 'vio': 9, 'voi': 10}\n"
     ]
    }
   ],
   "execution_count": 4,
   "source": [
    "import torch\n",
    "from torch.utils.data import Dataset, DataLoader\n",
    "from sklearn.preprocessing import LabelEncoder\n",
    "from sklearn.model_selection import train_test_split\n",
    "\n",
    "# Custom Dataset class for IRMAS\n",
    "class IRMASDataset(Dataset):\n",
    "    def __init__(self, feature_file, train=True, transform=None):\n",
    "        # Load features and labels\n",
    "        data = np.load(feature_file, allow_pickle=True)\n",
    "        self.features = data['features']\n",
    "        self.labels = data['labels']\n",
    "\n",
    "        # Encode labels for training data (single-label encoding)\n",
    "        le = LabelEncoder()\n",
    "        if isinstance(self.labels[0], list):  # Multi-label for testing data\n",
    "            self.labels = [le.fit_transform(label) for label in self.labels]\n",
    "        else:  # Single-label for training data\n",
    "            self.labels = le.fit_transform(self.labels)\n",
    "        self.label_mapping = dict(zip(le.classes_, range(len(le.classes_))))\n",
    "\n",
    "        # Split into train and validation sets\n",
    "        if train:\n",
    "            self.data, _, self.targets, _ = train_test_split(\n",
    "                self.features, self.labels, test_size=0.2, random_state=42)\n",
    "        else:\n",
    "            _, self.data, _, self.targets = train_test_split(\n",
    "                self.features, self.labels, test_size=0.2, random_state=42)\n",
    "\n",
    "        self.transform = transform\n",
    "\n",
    "    def __len__(self):\n",
    "        return len(self.data)\n",
    "\n",
    "    def __getitem__(self, idx):\n",
    "        sample = self.data[idx]\n",
    "        mel_spec = sample['mel_spec']\n",
    "        mfcc = sample['mfcc']\n",
    "        dwt = sample['dwt']\n",
    "        label = self.targets[idx]\n",
    "\n",
    "        # Apply transformations if provided\n",
    "        if self.transform:\n",
    "            mel_spec = self.transform(mel_spec)\n",
    "            mfcc = self.transform(mfcc)\n",
    "            dwt = self.transform(dwt)\n",
    "\n",
    "        # Convert features to tensors\n",
    "        mel_spec_tensor = torch.tensor(mel_spec, dtype=torch.float32).unsqueeze(0)\n",
    "        mfcc_tensor = torch.tensor(mfcc, dtype=torch.float32).unsqueeze(0)\n",
    "        dwt_tensor = torch.tensor(dwt, dtype=torch.float32)\n",
    "\n",
    "        return (mel_spec_tensor, mfcc_tensor, dwt_tensor), torch.tensor(label, dtype=torch.long)\n",
    "\n",
    "# Create DataLoaders\n",
    "def create_dataloaders(feature_file, batch_size=32):\n",
    "    train_dataset = IRMASDataset(feature_file, train=True)\n",
    "    val_dataset = IRMASDataset(feature_file, train=False)\n",
    "\n",
    "    train_loader = DataLoader(train_dataset, batch_size=batch_size, shuffle=True)\n",
    "    val_loader = DataLoader(val_dataset, batch_size=batch_size, shuffle=False)\n",
    "\n",
    "    return train_loader, val_loader, train_dataset.label_mapping\n",
    "\n",
    "# Example usage\n",
    "train_feature_file = \"train_features.npz\"\n",
    "batch_size = 512\n",
    "train_loader, val_loader, label_mapping = create_dataloaders(train_feature_file, batch_size)\n",
    "\n",
    "# Print label mapping\n",
    "print(\"Label mapping:\", label_mapping)"
   ],
   "id": "4ca9c36936f176c9"
  },
  {
   "metadata": {},
   "cell_type": "markdown",
   "source": [
    "# Deep CNN Model\n"
   ],
   "id": "c895e7991e199d81"
  },
  {
   "metadata": {
    "ExecuteTime": {
     "end_time": "2024-12-04T14:44:18.441271394Z",
     "start_time": "2024-12-04T14:44:18.429261184Z"
    }
   },
   "cell_type": "code",
   "outputs": [
    {
     "name": "stdout",
     "output_type": "stream",
     "text": [
      "IRMASModel(\n",
      "  (cnn_path): Sequential(\n",
      "    (0): Conv2d(1, 16, kernel_size=(3, 3), stride=(1, 1), padding=(1, 1))\n",
      "    (1): ReLU()\n",
      "    (2): BatchNorm2d(16, eps=1e-05, momentum=0.1, affine=True, track_running_stats=True)\n",
      "    (3): MaxPool2d(kernel_size=2, stride=2, padding=0, dilation=1, ceil_mode=False)\n",
      "    (4): Dropout(p=0.25, inplace=False)\n",
      "    (5): Conv2d(16, 32, kernel_size=(3, 3), stride=(1, 1), padding=(1, 1))\n",
      "    (6): ReLU()\n",
      "    (7): BatchNorm2d(32, eps=1e-05, momentum=0.1, affine=True, track_running_stats=True)\n",
      "    (8): MaxPool2d(kernel_size=2, stride=2, padding=0, dilation=1, ceil_mode=False)\n",
      "    (9): Dropout(p=0.25, inplace=False)\n",
      "    (10): Conv2d(32, 64, kernel_size=(3, 3), stride=(1, 1), padding=(1, 1))\n",
      "    (11): ReLU()\n",
      "    (12): BatchNorm2d(64, eps=1e-05, momentum=0.1, affine=True, track_running_stats=True)\n",
      "    (13): MaxPool2d(kernel_size=2, stride=2, padding=0, dilation=1, ceil_mode=False)\n",
      "    (14): Dropout(p=0.25, inplace=False)\n",
      "    (15): Conv2d(64, 128, kernel_size=(3, 3), stride=(1, 1), padding=(1, 1))\n",
      "    (16): ReLU()\n",
      "    (17): BatchNorm2d(128, eps=1e-05, momentum=0.1, affine=True, track_running_stats=True)\n",
      "    (18): MaxPool2d(kernel_size=2, stride=2, padding=0, dilation=1, ceil_mode=False)\n",
      "    (19): Dropout(p=0.25, inplace=False)\n",
      "    (20): Conv2d(128, 256, kernel_size=(3, 3), stride=(1, 1), padding=(1, 1))\n",
      "    (21): ReLU()\n",
      "    (22): BatchNorm2d(256, eps=1e-05, momentum=0.1, affine=True, track_running_stats=True)\n",
      "    (23): Dropout(p=0.25, inplace=False)\n",
      "    (24): AdaptiveAvgPool2d(output_size=1)\n",
      "  )\n",
      "  (dwt_path): Sequential(\n",
      "    (0): Linear(in_features=250, out_features=64, bias=True)\n",
      "    (1): ReLU()\n",
      "  )\n",
      "  (fc): Sequential(\n",
      "    (0): Linear(in_features=320, out_features=512, bias=True)\n",
      "    (1): ReLU()\n",
      "    (2): Dropout(p=0.5, inplace=False)\n",
      "    (3): Linear(in_features=512, out_features=256, bias=True)\n",
      "    (4): ReLU()\n",
      "    (5): BatchNorm1d(256, eps=1e-05, momentum=0.1, affine=True, track_running_stats=True)\n",
      "    (6): Dropout(p=0.5, inplace=False)\n",
      "    (7): Linear(in_features=256, out_features=11, bias=True)\n",
      "    (8): Softmax(dim=1)\n",
      "  )\n",
      ")\n"
     ]
    }
   ],
   "execution_count": 5,
   "source": [
    "import torch\n",
    "import torch.nn as nn\n",
    "import torch.nn.functional as F\n",
    "\n",
    "# Define the Deep Convolutional Neural Network (CNN)\n",
    "class IRMASModel(nn.Module):\n",
    "    def __init__(self, num_classes):\n",
    "        super(IRMASModel, self).__init__()\n",
    "        \n",
    "        # CNN pathway for Mel-Spectrogram and MFCC\n",
    "        self.cnn_path = nn.Sequential(\n",
    "            nn.Conv2d(1, 16, kernel_size=3, stride=1, padding=1),\n",
    "            nn.ReLU(),\n",
    "            nn.BatchNorm2d(16),\n",
    "            nn.MaxPool2d(kernel_size=2, stride=2),\n",
    "            nn.Dropout(0.25),\n",
    "            \n",
    "            nn.Conv2d(16, 32, kernel_size=3, stride=1, padding=1),\n",
    "            nn.ReLU(),\n",
    "            nn.BatchNorm2d(32),\n",
    "            nn.MaxPool2d(kernel_size=2, stride=2),\n",
    "            nn.Dropout(0.25),\n",
    "            \n",
    "            nn.Conv2d(32, 64, kernel_size=3, stride=1, padding=1),\n",
    "            nn.ReLU(),\n",
    "            nn.BatchNorm2d(64),\n",
    "            nn.MaxPool2d(kernel_size=2, stride=2),\n",
    "            nn.Dropout(0.25),\n",
    "            \n",
    "            nn.Conv2d(64, 128, kernel_size=3, stride=1, padding=1),\n",
    "            nn.ReLU(),\n",
    "            nn.BatchNorm2d(128),\n",
    "            nn.MaxPool2d(kernel_size=2, stride=2),\n",
    "            nn.Dropout(0.25),\n",
    "            \n",
    "            nn.Conv2d(128, 256, kernel_size=3, stride=1, padding=1),\n",
    "            nn.ReLU(),\n",
    "            nn.BatchNorm2d(256),\n",
    "            nn.Dropout(0.25),\n",
    "            nn.AdaptiveAvgPool2d(1)  # Global Average Pooling\n",
    "        )\n",
    "        \n",
    "        # Dense pathway for DWT features\n",
    "        self.dwt_path = nn.Sequential(\n",
    "            nn.Linear(250, 64),  # Match the input features (35 from DWT extraction)\n",
    "            nn.ReLU()\n",
    "        )\n",
    "        \n",
    "        # Combined dense layers\n",
    "        self.fc = nn.Sequential(\n",
    "            nn.Linear(256 + 64, 512),\n",
    "            nn.ReLU(),\n",
    "            nn.Dropout(0.5),\n",
    "            \n",
    "            nn.Linear(512, 256),\n",
    "            nn.ReLU(),\n",
    "            nn.BatchNorm1d(256),\n",
    "            nn.Dropout(0.5),\n",
    "            \n",
    "            nn.Linear(256, num_classes),\n",
    "            nn.Softmax(dim=1)\n",
    "        )\n",
    "    \n",
    "    def forward(self, x):\n",
    "        mel_spec, mfcc, dwt = x\n",
    "\n",
    "        # Process Mel-Spectrogram and MFCC features through CNN\n",
    "        mel_spec_out = self.cnn_path(mel_spec)\n",
    "        mfcc_out = self.cnn_path(mfcc)\n",
    "\n",
    "        # Flatten the outputs\n",
    "        mel_spec_out = mel_spec_out.view(mel_spec_out.size(0), -1)  # Batch x Flattened Size\n",
    "        mfcc_out = mfcc_out.view(mfcc_out.size(0), -1)\n",
    "\n",
    "        # Combine Mel-Spectrogram and MFCC outputs\n",
    "        combined_cnn_out = mel_spec_out + mfcc_out\n",
    "\n",
    "        # Process DWT features through Dense Pathway\n",
    "        dwt = dwt.view(dwt.size(0), -1)  # Ensure DWT has shape Batch x Feature Size (35 features)\n",
    "        dwt_out = self.dwt_path(dwt)\n",
    "\n",
    "        # Combine CNN and DWT features\n",
    "        combined_features = torch.cat((combined_cnn_out, dwt_out), dim=1)\n",
    "\n",
    "        # Final classification layers\n",
    "        out = self.fc(combined_features)\n",
    "\n",
    "        return out\n",
    "\n",
    "# Instantiate the model\n",
    "num_classes = 11  # Number of instrument classes in IRMAS dataset\n",
    "model = IRMASModel(num_classes)\n",
    "\n",
    "# Print model summary\n",
    "print(model)"
   ],
   "id": "f862d28df2d6f054"
  },
  {
   "metadata": {},
   "cell_type": "markdown",
   "source": [
    "# Training"
   ],
   "id": "b1a9da9ccfabdc6"
  },
  {
   "metadata": {
    "ExecuteTime": {
     "end_time": "2024-12-04T14:54:38.195030821Z",
     "start_time": "2024-12-04T14:50:39.125369262Z"
    }
   },
   "cell_type": "code",
   "outputs": [
    {
     "name": "stdout",
     "output_type": "stream",
     "text": [
      "Current Training Session is Running on:  cuda\n",
      "Epoch 1/100\n"
     ]
    },
    {
     "name": "stderr",
     "output_type": "stream",
     "text": [
      "Training: 100%|██████████| 11/11 [00:02<00:00,  5.22it/s]\n",
      "Validation: 100%|██████████| 3/3 [00:00<00:00, 11.39it/s]\n"
     ]
    },
    {
     "name": "stdout",
     "output_type": "stream",
     "text": [
      "Train Loss: 1.6697, Train Acc: 0.8768\n",
      "Val Loss: 2.3255, Val Acc: 0.2125\n",
      "Epoch 2/100\n"
     ]
    },
    {
     "name": "stderr",
     "output_type": "stream",
     "text": [
      "Training: 100%|██████████| 11/11 [00:02<00:00,  5.12it/s]\n",
      "Validation: 100%|██████████| 3/3 [00:00<00:00, 12.09it/s]\n"
     ]
    },
    {
     "name": "stdout",
     "output_type": "stream",
     "text": [
      "Train Loss: 1.6719, Train Acc: 0.8768\n",
      "Val Loss: 2.3215, Val Acc: 0.2177\n",
      "Epoch 3/100\n"
     ]
    },
    {
     "name": "stderr",
     "output_type": "stream",
     "text": [
      "Training: 100%|██████████| 11/11 [00:02<00:00,  5.26it/s]\n",
      "Validation: 100%|██████████| 3/3 [00:00<00:00, 11.50it/s]\n"
     ]
    },
    {
     "name": "stdout",
     "output_type": "stream",
     "text": [
      "Train Loss: 1.6627, Train Acc: 0.8835\n",
      "Val Loss: 2.3320, Val Acc: 0.2036\n",
      "Epoch 4/100\n"
     ]
    },
    {
     "name": "stderr",
     "output_type": "stream",
     "text": [
      "Training: 100%|██████████| 11/11 [00:02<00:00,  5.33it/s]\n",
      "Validation: 100%|██████████| 3/3 [00:00<00:00, 11.72it/s]\n"
     ]
    },
    {
     "name": "stdout",
     "output_type": "stream",
     "text": [
      "Train Loss: 1.6630, Train Acc: 0.8842\n",
      "Val Loss: 2.3287, Val Acc: 0.2058\n",
      "Epoch 5/100\n"
     ]
    },
    {
     "name": "stderr",
     "output_type": "stream",
     "text": [
      "Training: 100%|██████████| 11/11 [00:02<00:00,  5.21it/s]\n",
      "Validation: 100%|██████████| 3/3 [00:00<00:00, 11.00it/s]\n"
     ]
    },
    {
     "name": "stdout",
     "output_type": "stream",
     "text": [
      "Train Loss: 1.6544, Train Acc: 0.8917\n",
      "Val Loss: 2.3309, Val Acc: 0.2043\n",
      "Epoch 6/100\n"
     ]
    },
    {
     "name": "stderr",
     "output_type": "stream",
     "text": [
      "Training: 100%|██████████| 11/11 [00:02<00:00,  5.20it/s]\n",
      "Validation: 100%|██████████| 3/3 [00:00<00:00, 11.65it/s]\n"
     ]
    },
    {
     "name": "stdout",
     "output_type": "stream",
     "text": [
      "Train Loss: 1.6601, Train Acc: 0.8876\n",
      "Val Loss: 2.3197, Val Acc: 0.2148\n",
      "Epoch 7/100\n"
     ]
    },
    {
     "name": "stderr",
     "output_type": "stream",
     "text": [
      "Training: 100%|██████████| 11/11 [00:02<00:00,  5.20it/s]\n",
      "Validation: 100%|██████████| 3/3 [00:00<00:00,  9.65it/s]\n"
     ]
    },
    {
     "name": "stdout",
     "output_type": "stream",
     "text": [
      "Train Loss: 1.6588, Train Acc: 0.8874\n",
      "Val Loss: 2.3194, Val Acc: 0.2185\n",
      "Epoch 8/100\n"
     ]
    },
    {
     "name": "stderr",
     "output_type": "stream",
     "text": [
      "Training: 100%|██████████| 11/11 [00:02<00:00,  4.96it/s]\n",
      "Validation: 100%|██████████| 3/3 [00:00<00:00, 10.49it/s]\n"
     ]
    },
    {
     "name": "stdout",
     "output_type": "stream",
     "text": [
      "Train Loss: 1.6589, Train Acc: 0.8844\n",
      "Val Loss: 2.3098, Val Acc: 0.2274\n",
      "Epoch 9/100\n"
     ]
    },
    {
     "name": "stderr",
     "output_type": "stream",
     "text": [
      "Training: 100%|██████████| 11/11 [00:02<00:00,  5.27it/s]\n",
      "Validation: 100%|██████████| 3/3 [00:00<00:00, 11.80it/s]\n"
     ]
    },
    {
     "name": "stdout",
     "output_type": "stream",
     "text": [
      "Train Loss: 1.6569, Train Acc: 0.8874\n",
      "Val Loss: 2.3125, Val Acc: 0.2245\n",
      "Epoch 10/100\n"
     ]
    },
    {
     "name": "stderr",
     "output_type": "stream",
     "text": [
      "Training: 100%|██████████| 11/11 [00:02<00:00,  5.29it/s]\n",
      "Validation: 100%|██████████| 3/3 [00:00<00:00, 12.10it/s]\n"
     ]
    },
    {
     "name": "stdout",
     "output_type": "stream",
     "text": [
      "Train Loss: 1.6544, Train Acc: 0.8898\n",
      "Val Loss: 2.3114, Val Acc: 0.2252\n",
      "Epoch 11/100\n"
     ]
    },
    {
     "name": "stderr",
     "output_type": "stream",
     "text": [
      "Training: 100%|██████████| 11/11 [00:02<00:00,  5.33it/s]\n",
      "Validation: 100%|██████████| 3/3 [00:00<00:00, 11.92it/s]\n"
     ]
    },
    {
     "name": "stdout",
     "output_type": "stream",
     "text": [
      "Train Loss: 1.6479, Train Acc: 0.8971\n",
      "Val Loss: 2.3134, Val Acc: 0.2237\n",
      "Epoch 12/100\n"
     ]
    },
    {
     "name": "stderr",
     "output_type": "stream",
     "text": [
      "Training: 100%|██████████| 11/11 [00:02<00:00,  5.21it/s]\n",
      "Validation: 100%|██████████| 3/3 [00:00<00:00, 11.24it/s]\n"
     ]
    },
    {
     "name": "stdout",
     "output_type": "stream",
     "text": [
      "Train Loss: 1.6508, Train Acc: 0.8958\n",
      "Val Loss: 2.3079, Val Acc: 0.2297\n",
      "Epoch 13/100\n"
     ]
    },
    {
     "name": "stderr",
     "output_type": "stream",
     "text": [
      "Training: 100%|██████████| 11/11 [00:02<00:00,  5.30it/s]\n",
      "Validation: 100%|██████████| 3/3 [00:00<00:00, 11.56it/s]\n"
     ]
    },
    {
     "name": "stdout",
     "output_type": "stream",
     "text": [
      "Train Loss: 1.6513, Train Acc: 0.8937\n",
      "Val Loss: 2.3044, Val Acc: 0.2349\n",
      "Epoch 14/100\n"
     ]
    },
    {
     "name": "stderr",
     "output_type": "stream",
     "text": [
      "Training: 100%|██████████| 11/11 [00:02<00:00,  5.13it/s]\n",
      "Validation: 100%|██████████| 3/3 [00:00<00:00, 11.74it/s]\n"
     ]
    },
    {
     "name": "stdout",
     "output_type": "stream",
     "text": [
      "Train Loss: 1.6503, Train Acc: 0.8969\n",
      "Val Loss: 2.3039, Val Acc: 0.2364\n",
      "Epoch 15/100\n"
     ]
    },
    {
     "name": "stderr",
     "output_type": "stream",
     "text": [
      "Training: 100%|██████████| 11/11 [00:02<00:00,  5.34it/s]\n",
      "Validation: 100%|██████████| 3/3 [00:00<00:00, 12.06it/s]\n"
     ]
    },
    {
     "name": "stdout",
     "output_type": "stream",
     "text": [
      "Train Loss: 1.6485, Train Acc: 0.8960\n",
      "Val Loss: 2.2985, Val Acc: 0.2401\n",
      "Epoch 16/100\n"
     ]
    },
    {
     "name": "stderr",
     "output_type": "stream",
     "text": [
      "Training: 100%|██████████| 11/11 [00:02<00:00,  5.36it/s]\n",
      "Validation: 100%|██████████| 3/3 [00:00<00:00, 11.41it/s]\n"
     ]
    },
    {
     "name": "stdout",
     "output_type": "stream",
     "text": [
      "Train Loss: 1.6479, Train Acc: 0.8973\n",
      "Val Loss: 2.3000, Val Acc: 0.2364\n",
      "Epoch 17/100\n"
     ]
    },
    {
     "name": "stderr",
     "output_type": "stream",
     "text": [
      "Training: 100%|██████████| 11/11 [00:02<00:00,  5.33it/s]\n",
      "Validation: 100%|██████████| 3/3 [00:00<00:00, 11.23it/s]\n"
     ]
    },
    {
     "name": "stdout",
     "output_type": "stream",
     "text": [
      "Train Loss: 1.6513, Train Acc: 0.8950\n",
      "Val Loss: 2.2999, Val Acc: 0.2364\n",
      "Epoch 18/100\n"
     ]
    },
    {
     "name": "stderr",
     "output_type": "stream",
     "text": [
      "Training: 100%|██████████| 11/11 [00:02<00:00,  5.32it/s]\n",
      "Validation: 100%|██████████| 3/3 [00:00<00:00, 11.48it/s]\n"
     ]
    },
    {
     "name": "stdout",
     "output_type": "stream",
     "text": [
      "Train Loss: 1.6488, Train Acc: 0.8958\n",
      "Val Loss: 2.3052, Val Acc: 0.2297\n",
      "Epoch 19/100\n"
     ]
    },
    {
     "name": "stderr",
     "output_type": "stream",
     "text": [
      "Training: 100%|██████████| 11/11 [00:02<00:00,  5.15it/s]\n",
      "Validation: 100%|██████████| 3/3 [00:00<00:00, 12.17it/s]\n"
     ]
    },
    {
     "name": "stdout",
     "output_type": "stream",
     "text": [
      "Train Loss: 1.6469, Train Acc: 0.9003\n",
      "Val Loss: 2.3140, Val Acc: 0.2215\n",
      "Epoch 20/100\n"
     ]
    },
    {
     "name": "stderr",
     "output_type": "stream",
     "text": [
      "Training: 100%|██████████| 11/11 [00:02<00:00,  5.34it/s]\n",
      "Validation: 100%|██████████| 3/3 [00:00<00:00, 11.76it/s]\n"
     ]
    },
    {
     "name": "stdout",
     "output_type": "stream",
     "text": [
      "Train Loss: 1.6495, Train Acc: 0.8984\n",
      "Val Loss: 2.3096, Val Acc: 0.2267\n",
      "Epoch 21/100\n"
     ]
    },
    {
     "name": "stderr",
     "output_type": "stream",
     "text": [
      "Training: 100%|██████████| 11/11 [00:02<00:00,  5.33it/s]\n",
      "Validation: 100%|██████████| 3/3 [00:00<00:00, 11.48it/s]\n"
     ]
    },
    {
     "name": "stdout",
     "output_type": "stream",
     "text": [
      "Train Loss: 1.6465, Train Acc: 0.8971\n",
      "Val Loss: 2.3120, Val Acc: 0.2252\n",
      "Epoch 22/100\n"
     ]
    },
    {
     "name": "stderr",
     "output_type": "stream",
     "text": [
      "Training: 100%|██████████| 11/11 [00:02<00:00,  5.33it/s]\n",
      "Validation: 100%|██████████| 3/3 [00:00<00:00, 12.08it/s]\n"
     ]
    },
    {
     "name": "stdout",
     "output_type": "stream",
     "text": [
      "Train Loss: 1.6449, Train Acc: 0.9018\n",
      "Val Loss: 2.3202, Val Acc: 0.2177\n",
      "Epoch 23/100\n"
     ]
    },
    {
     "name": "stderr",
     "output_type": "stream",
     "text": [
      "Training: 100%|██████████| 11/11 [00:02<00:00,  5.27it/s]\n",
      "Validation: 100%|██████████| 3/3 [00:00<00:00, 11.57it/s]\n"
     ]
    },
    {
     "name": "stdout",
     "output_type": "stream",
     "text": [
      "Train Loss: 1.6499, Train Acc: 0.8986\n",
      "Val Loss: 2.3228, Val Acc: 0.2163\n",
      "Epoch 24/100\n"
     ]
    },
    {
     "name": "stderr",
     "output_type": "stream",
     "text": [
      "Training: 100%|██████████| 11/11 [00:02<00:00,  5.31it/s]\n",
      "Validation: 100%|██████████| 3/3 [00:00<00:00, 11.81it/s]\n"
     ]
    },
    {
     "name": "stdout",
     "output_type": "stream",
     "text": [
      "Train Loss: 1.6432, Train Acc: 0.9016\n",
      "Val Loss: 2.3209, Val Acc: 0.2170\n",
      "Epoch 25/100\n"
     ]
    },
    {
     "name": "stderr",
     "output_type": "stream",
     "text": [
      "Training: 100%|██████████| 11/11 [00:02<00:00,  5.12it/s]\n",
      "Validation: 100%|██████████| 3/3 [00:00<00:00, 11.40it/s]\n"
     ]
    },
    {
     "name": "stdout",
     "output_type": "stream",
     "text": [
      "Train Loss: 1.6443, Train Acc: 0.9029\n",
      "Val Loss: 2.3186, Val Acc: 0.2207\n",
      "Epoch 26/100\n"
     ]
    },
    {
     "name": "stderr",
     "output_type": "stream",
     "text": [
      "Training: 100%|██████████| 11/11 [00:02<00:00,  5.33it/s]\n",
      "Validation: 100%|██████████| 3/3 [00:00<00:00, 11.58it/s]\n"
     ]
    },
    {
     "name": "stdout",
     "output_type": "stream",
     "text": [
      "Train Loss: 1.6422, Train Acc: 0.9023\n",
      "Val Loss: 2.3125, Val Acc: 0.2252\n",
      "Epoch 27/100\n"
     ]
    },
    {
     "name": "stderr",
     "output_type": "stream",
     "text": [
      "Training: 100%|██████████| 11/11 [00:02<00:00,  5.33it/s]\n",
      "Validation: 100%|██████████| 3/3 [00:00<00:00, 11.73it/s]\n"
     ]
    },
    {
     "name": "stdout",
     "output_type": "stream",
     "text": [
      "Train Loss: 1.6455, Train Acc: 0.9004\n",
      "Val Loss: 2.3111, Val Acc: 0.2252\n",
      "Epoch 28/100\n"
     ]
    },
    {
     "name": "stderr",
     "output_type": "stream",
     "text": [
      "Training: 100%|██████████| 11/11 [00:02<00:00,  5.28it/s]\n",
      "Validation: 100%|██████████| 3/3 [00:00<00:00, 11.89it/s]\n"
     ]
    },
    {
     "name": "stdout",
     "output_type": "stream",
     "text": [
      "Train Loss: 1.6428, Train Acc: 0.9016\n",
      "Val Loss: 2.3097, Val Acc: 0.2252\n",
      "Epoch 29/100\n"
     ]
    },
    {
     "name": "stderr",
     "output_type": "stream",
     "text": [
      "Training: 100%|██████████| 11/11 [00:02<00:00,  5.36it/s]\n",
      "Validation: 100%|██████████| 3/3 [00:00<00:00, 11.67it/s]\n"
     ]
    },
    {
     "name": "stdout",
     "output_type": "stream",
     "text": [
      "Train Loss: 1.6458, Train Acc: 0.8997\n",
      "Val Loss: 2.3147, Val Acc: 0.2222\n",
      "Epoch 30/100\n"
     ]
    },
    {
     "name": "stderr",
     "output_type": "stream",
     "text": [
      "Training: 100%|██████████| 11/11 [00:02<00:00,  5.27it/s]\n",
      "Validation: 100%|██████████| 3/3 [00:00<00:00, 11.65it/s]\n"
     ]
    },
    {
     "name": "stdout",
     "output_type": "stream",
     "text": [
      "Train Loss: 1.6405, Train Acc: 0.9055\n",
      "Val Loss: 2.3151, Val Acc: 0.2215\n",
      "Epoch 31/100\n"
     ]
    },
    {
     "name": "stderr",
     "output_type": "stream",
     "text": [
      "Training: 100%|██████████| 11/11 [00:02<00:00,  5.17it/s]\n",
      "Validation: 100%|██████████| 3/3 [00:00<00:00, 11.61it/s]\n"
     ]
    },
    {
     "name": "stdout",
     "output_type": "stream",
     "text": [
      "Train Loss: 1.6408, Train Acc: 0.9047\n",
      "Val Loss: 2.3106, Val Acc: 0.2237\n",
      "Epoch 32/100\n"
     ]
    },
    {
     "name": "stderr",
     "output_type": "stream",
     "text": [
      "Training: 100%|██████████| 11/11 [00:02<00:00,  5.33it/s]\n",
      "Validation: 100%|██████████| 3/3 [00:00<00:00, 11.87it/s]\n"
     ]
    },
    {
     "name": "stdout",
     "output_type": "stream",
     "text": [
      "Train Loss: 1.6437, Train Acc: 0.9036\n",
      "Val Loss: 2.3107, Val Acc: 0.2245\n",
      "Epoch 33/100\n"
     ]
    },
    {
     "name": "stderr",
     "output_type": "stream",
     "text": [
      "Training: 100%|██████████| 11/11 [00:02<00:00,  5.27it/s]\n",
      "Validation: 100%|██████████| 3/3 [00:00<00:00, 11.89it/s]\n"
     ]
    },
    {
     "name": "stdout",
     "output_type": "stream",
     "text": [
      "Train Loss: 1.6381, Train Acc: 0.9059\n",
      "Val Loss: 2.3190, Val Acc: 0.2163\n",
      "Epoch 34/100\n"
     ]
    },
    {
     "name": "stderr",
     "output_type": "stream",
     "text": [
      "Training: 100%|██████████| 11/11 [00:02<00:00,  5.31it/s]\n",
      "Validation: 100%|██████████| 3/3 [00:00<00:00, 11.53it/s]\n"
     ]
    },
    {
     "name": "stdout",
     "output_type": "stream",
     "text": [
      "Train Loss: 1.6419, Train Acc: 0.9053\n",
      "Val Loss: 2.3202, Val Acc: 0.2140\n",
      "Epoch 35/100\n"
     ]
    },
    {
     "name": "stderr",
     "output_type": "stream",
     "text": [
      "Training: 100%|██████████| 11/11 [00:02<00:00,  5.32it/s]\n",
      "Validation: 100%|██████████| 3/3 [00:00<00:00, 11.14it/s]\n"
     ]
    },
    {
     "name": "stdout",
     "output_type": "stream",
     "text": [
      "Train Loss: 1.6423, Train Acc: 0.9018\n",
      "Val Loss: 2.3114, Val Acc: 0.2237\n",
      "Epoch 36/100\n"
     ]
    },
    {
     "name": "stderr",
     "output_type": "stream",
     "text": [
      "Training: 100%|██████████| 11/11 [00:02<00:00,  5.11it/s]\n",
      "Validation: 100%|██████████| 3/3 [00:00<00:00, 11.86it/s]\n"
     ]
    },
    {
     "name": "stdout",
     "output_type": "stream",
     "text": [
      "Train Loss: 1.6375, Train Acc: 0.9077\n",
      "Val Loss: 2.3121, Val Acc: 0.2215\n",
      "Epoch 37/100\n"
     ]
    },
    {
     "name": "stderr",
     "output_type": "stream",
     "text": [
      "Training: 100%|██████████| 11/11 [00:02<00:00,  5.35it/s]\n",
      "Validation: 100%|██████████| 3/3 [00:00<00:00, 11.51it/s]\n"
     ]
    },
    {
     "name": "stdout",
     "output_type": "stream",
     "text": [
      "Train Loss: 1.6408, Train Acc: 0.9064\n",
      "Val Loss: 2.3109, Val Acc: 0.2252\n",
      "Epoch 38/100\n"
     ]
    },
    {
     "name": "stderr",
     "output_type": "stream",
     "text": [
      "Training: 100%|██████████| 11/11 [00:02<00:00,  5.29it/s]\n",
      "Validation: 100%|██████████| 3/3 [00:00<00:00, 11.82it/s]\n"
     ]
    },
    {
     "name": "stdout",
     "output_type": "stream",
     "text": [
      "Train Loss: 1.6367, Train Acc: 0.9088\n",
      "Val Loss: 2.3156, Val Acc: 0.2215\n",
      "Epoch 39/100\n"
     ]
    },
    {
     "name": "stderr",
     "output_type": "stream",
     "text": [
      "Training: 100%|██████████| 11/11 [00:02<00:00,  5.32it/s]\n",
      "Validation: 100%|██████████| 3/3 [00:00<00:00, 11.70it/s]\n"
     ]
    },
    {
     "name": "stdout",
     "output_type": "stream",
     "text": [
      "Train Loss: 1.6411, Train Acc: 0.9051\n",
      "Val Loss: 2.3194, Val Acc: 0.2163\n",
      "Epoch 40/100\n"
     ]
    },
    {
     "name": "stderr",
     "output_type": "stream",
     "text": [
      "Training: 100%|██████████| 11/11 [00:02<00:00,  5.26it/s]\n",
      "Validation: 100%|██████████| 3/3 [00:00<00:00, 11.21it/s]\n"
     ]
    },
    {
     "name": "stdout",
     "output_type": "stream",
     "text": [
      "Train Loss: 1.6398, Train Acc: 0.9051\n",
      "Val Loss: 2.3260, Val Acc: 0.2110\n",
      "Epoch 41/100\n"
     ]
    },
    {
     "name": "stderr",
     "output_type": "stream",
     "text": [
      "Training: 100%|██████████| 11/11 [00:02<00:00,  5.28it/s]\n",
      "Validation: 100%|██████████| 3/3 [00:00<00:00,  9.32it/s]\n"
     ]
    },
    {
     "name": "stdout",
     "output_type": "stream",
     "text": [
      "Train Loss: 1.6381, Train Acc: 0.9079\n",
      "Val Loss: 2.3192, Val Acc: 0.2148\n",
      "Epoch 42/100\n"
     ]
    },
    {
     "name": "stderr",
     "output_type": "stream",
     "text": [
      "Training: 100%|██████████| 11/11 [00:02<00:00,  5.28it/s]\n",
      "Validation: 100%|██████████| 3/3 [00:00<00:00, 11.74it/s]\n"
     ]
    },
    {
     "name": "stdout",
     "output_type": "stream",
     "text": [
      "Train Loss: 1.6400, Train Acc: 0.9064\n",
      "Val Loss: 2.3176, Val Acc: 0.2177\n",
      "Epoch 43/100\n"
     ]
    },
    {
     "name": "stderr",
     "output_type": "stream",
     "text": [
      "Training: 100%|██████████| 11/11 [00:02<00:00,  5.29it/s]\n",
      "Validation: 100%|██████████| 3/3 [00:00<00:00, 11.12it/s]\n"
     ]
    },
    {
     "name": "stdout",
     "output_type": "stream",
     "text": [
      "Train Loss: 1.6381, Train Acc: 0.9070\n",
      "Val Loss: 2.3167, Val Acc: 0.2192\n",
      "Epoch 44/100\n"
     ]
    },
    {
     "name": "stderr",
     "output_type": "stream",
     "text": [
      "Training: 100%|██████████| 11/11 [00:02<00:00,  5.27it/s]\n",
      "Validation: 100%|██████████| 3/3 [00:00<00:00, 10.78it/s]\n"
     ]
    },
    {
     "name": "stdout",
     "output_type": "stream",
     "text": [
      "Train Loss: 1.6388, Train Acc: 0.9077\n",
      "Val Loss: 2.3146, Val Acc: 0.2207\n",
      "Epoch 45/100\n"
     ]
    },
    {
     "name": "stderr",
     "output_type": "stream",
     "text": [
      "Training: 100%|██████████| 11/11 [00:02<00:00,  5.30it/s]\n",
      "Validation: 100%|██████████| 3/3 [00:00<00:00, 11.58it/s]\n"
     ]
    },
    {
     "name": "stdout",
     "output_type": "stream",
     "text": [
      "Train Loss: 1.6409, Train Acc: 0.9034\n",
      "Val Loss: 2.3195, Val Acc: 0.2155\n",
      "Epoch 46/100\n"
     ]
    },
    {
     "name": "stderr",
     "output_type": "stream",
     "text": [
      "Training: 100%|██████████| 11/11 [00:02<00:00,  5.25it/s]\n",
      "Validation: 100%|██████████| 3/3 [00:00<00:00, 11.90it/s]\n"
     ]
    },
    {
     "name": "stdout",
     "output_type": "stream",
     "text": [
      "Train Loss: 1.6387, Train Acc: 0.9066\n",
      "Val Loss: 2.3173, Val Acc: 0.2170\n",
      "Epoch 47/100\n"
     ]
    },
    {
     "name": "stderr",
     "output_type": "stream",
     "text": [
      "Training: 100%|██████████| 11/11 [00:02<00:00,  5.12it/s]\n",
      "Validation: 100%|██████████| 3/3 [00:00<00:00, 11.71it/s]\n"
     ]
    },
    {
     "name": "stdout",
     "output_type": "stream",
     "text": [
      "Train Loss: 1.6379, Train Acc: 0.9070\n",
      "Val Loss: 2.3153, Val Acc: 0.2192\n",
      "Epoch 48/100\n"
     ]
    },
    {
     "name": "stderr",
     "output_type": "stream",
     "text": [
      "Training: 100%|██████████| 11/11 [00:02<00:00,  5.29it/s]\n",
      "Validation: 100%|██████████| 3/3 [00:00<00:00, 11.43it/s]\n"
     ]
    },
    {
     "name": "stdout",
     "output_type": "stream",
     "text": [
      "Train Loss: 1.6392, Train Acc: 0.9073\n",
      "Val Loss: 2.3182, Val Acc: 0.2185\n",
      "Epoch 49/100\n"
     ]
    },
    {
     "name": "stderr",
     "output_type": "stream",
     "text": [
      "Training: 100%|██████████| 11/11 [00:02<00:00,  5.34it/s]\n",
      "Validation: 100%|██████████| 3/3 [00:00<00:00, 11.70it/s]\n"
     ]
    },
    {
     "name": "stdout",
     "output_type": "stream",
     "text": [
      "Train Loss: 1.6371, Train Acc: 0.9077\n",
      "Val Loss: 2.3132, Val Acc: 0.2207\n",
      "Epoch 50/100\n"
     ]
    },
    {
     "name": "stderr",
     "output_type": "stream",
     "text": [
      "Training: 100%|██████████| 11/11 [00:02<00:00,  5.29it/s]\n",
      "Validation: 100%|██████████| 3/3 [00:00<00:00, 11.88it/s]\n"
     ]
    },
    {
     "name": "stdout",
     "output_type": "stream",
     "text": [
      "Train Loss: 1.6373, Train Acc: 0.9087\n",
      "Val Loss: 2.3179, Val Acc: 0.2192\n",
      "Epoch 51/100\n"
     ]
    },
    {
     "name": "stderr",
     "output_type": "stream",
     "text": [
      "Training: 100%|██████████| 11/11 [00:02<00:00,  5.29it/s]\n",
      "Validation: 100%|██████████| 3/3 [00:00<00:00, 12.01it/s]\n"
     ]
    },
    {
     "name": "stdout",
     "output_type": "stream",
     "text": [
      "Train Loss: 1.6401, Train Acc: 0.9040\n",
      "Val Loss: 2.3167, Val Acc: 0.2215\n",
      "Epoch 52/100\n"
     ]
    },
    {
     "name": "stderr",
     "output_type": "stream",
     "text": [
      "Training: 100%|██████████| 11/11 [00:02<00:00,  5.16it/s]\n",
      "Validation: 100%|██████████| 3/3 [00:00<00:00, 11.86it/s]\n"
     ]
    },
    {
     "name": "stdout",
     "output_type": "stream",
     "text": [
      "Train Loss: 1.6367, Train Acc: 0.9098\n",
      "Val Loss: 2.3206, Val Acc: 0.2163\n",
      "Epoch 53/100\n"
     ]
    },
    {
     "name": "stderr",
     "output_type": "stream",
     "text": [
      "Training: 100%|██████████| 11/11 [00:02<00:00,  5.27it/s]\n",
      "Validation: 100%|██████████| 3/3 [00:00<00:00, 11.82it/s]\n"
     ]
    },
    {
     "name": "stdout",
     "output_type": "stream",
     "text": [
      "Train Loss: 1.6353, Train Acc: 0.9118\n",
      "Val Loss: 2.3224, Val Acc: 0.2170\n",
      "Epoch 54/100\n"
     ]
    },
    {
     "name": "stderr",
     "output_type": "stream",
     "text": [
      "Training: 100%|██████████| 11/11 [00:02<00:00,  5.29it/s]\n",
      "Validation: 100%|██████████| 3/3 [00:00<00:00, 11.94it/s]\n"
     ]
    },
    {
     "name": "stdout",
     "output_type": "stream",
     "text": [
      "Train Loss: 1.6369, Train Acc: 0.9088\n",
      "Val Loss: 2.3215, Val Acc: 0.2177\n",
      "Epoch 55/100\n"
     ]
    },
    {
     "name": "stderr",
     "output_type": "stream",
     "text": [
      "Training: 100%|██████████| 11/11 [00:02<00:00,  5.29it/s]\n",
      "Validation: 100%|██████████| 3/3 [00:00<00:00, 11.39it/s]\n"
     ]
    },
    {
     "name": "stdout",
     "output_type": "stream",
     "text": [
      "Train Loss: 1.6336, Train Acc: 0.9094\n",
      "Val Loss: 2.3203, Val Acc: 0.2185\n",
      "Epoch 56/100\n"
     ]
    },
    {
     "name": "stderr",
     "output_type": "stream",
     "text": [
      "Training: 100%|██████████| 11/11 [00:02<00:00,  5.29it/s]\n",
      "Validation: 100%|██████████| 3/3 [00:00<00:00, 11.62it/s]\n"
     ]
    },
    {
     "name": "stdout",
     "output_type": "stream",
     "text": [
      "Train Loss: 1.6354, Train Acc: 0.9128\n",
      "Val Loss: 2.3211, Val Acc: 0.2170\n",
      "Epoch 57/100\n"
     ]
    },
    {
     "name": "stderr",
     "output_type": "stream",
     "text": [
      "Training: 100%|██████████| 11/11 [00:02<00:00,  5.25it/s]\n",
      "Validation: 100%|██████████| 3/3 [00:00<00:00,  9.37it/s]\n"
     ]
    },
    {
     "name": "stdout",
     "output_type": "stream",
     "text": [
      "Train Loss: 1.6340, Train Acc: 0.9114\n",
      "Val Loss: 2.3235, Val Acc: 0.2155\n",
      "Epoch 58/100\n"
     ]
    },
    {
     "name": "stderr",
     "output_type": "stream",
     "text": [
      "Training: 100%|██████████| 11/11 [00:02<00:00,  5.29it/s]\n",
      "Validation: 100%|██████████| 3/3 [00:00<00:00, 11.78it/s]\n"
     ]
    },
    {
     "name": "stdout",
     "output_type": "stream",
     "text": [
      "Train Loss: 1.6363, Train Acc: 0.9059\n",
      "Val Loss: 2.3286, Val Acc: 0.2103\n",
      "Epoch 59/100\n"
     ]
    },
    {
     "name": "stderr",
     "output_type": "stream",
     "text": [
      "Training: 100%|██████████| 11/11 [00:02<00:00,  5.32it/s]\n",
      "Validation: 100%|██████████| 3/3 [00:00<00:00, 11.28it/s]\n"
     ]
    },
    {
     "name": "stdout",
     "output_type": "stream",
     "text": [
      "Train Loss: 1.6346, Train Acc: 0.9111\n",
      "Val Loss: 2.3181, Val Acc: 0.2185\n",
      "Epoch 60/100\n"
     ]
    },
    {
     "name": "stderr",
     "output_type": "stream",
     "text": [
      "Training: 100%|██████████| 11/11 [00:02<00:00,  5.29it/s]\n",
      "Validation: 100%|██████████| 3/3 [00:00<00:00, 11.84it/s]\n"
     ]
    },
    {
     "name": "stdout",
     "output_type": "stream",
     "text": [
      "Train Loss: 1.6371, Train Acc: 0.9090\n",
      "Val Loss: 2.3196, Val Acc: 0.2185\n",
      "Epoch 61/100\n"
     ]
    },
    {
     "name": "stderr",
     "output_type": "stream",
     "text": [
      "Training: 100%|██████████| 11/11 [00:02<00:00,  5.29it/s]\n",
      "Validation: 100%|██████████| 3/3 [00:00<00:00, 11.65it/s]\n"
     ]
    },
    {
     "name": "stdout",
     "output_type": "stream",
     "text": [
      "Train Loss: 1.6291, Train Acc: 0.9159\n",
      "Val Loss: 2.3221, Val Acc: 0.2140\n",
      "Epoch 62/100\n"
     ]
    },
    {
     "name": "stderr",
     "output_type": "stream",
     "text": [
      "Training: 100%|██████████| 11/11 [00:02<00:00,  5.29it/s]\n",
      "Validation: 100%|██████████| 3/3 [00:00<00:00, 11.63it/s]\n"
     ]
    },
    {
     "name": "stdout",
     "output_type": "stream",
     "text": [
      "Train Loss: 1.6336, Train Acc: 0.9126\n",
      "Val Loss: 2.3201, Val Acc: 0.2177\n",
      "Epoch 63/100\n"
     ]
    },
    {
     "name": "stderr",
     "output_type": "stream",
     "text": [
      "Training: 100%|██████████| 11/11 [00:02<00:00,  5.14it/s]\n",
      "Validation: 100%|██████████| 3/3 [00:00<00:00, 11.68it/s]\n"
     ]
    },
    {
     "name": "stdout",
     "output_type": "stream",
     "text": [
      "Train Loss: 1.6330, Train Acc: 0.9116\n",
      "Val Loss: 2.3194, Val Acc: 0.2185\n",
      "Epoch 64/100\n"
     ]
    },
    {
     "name": "stderr",
     "output_type": "stream",
     "text": [
      "Training: 100%|██████████| 11/11 [00:02<00:00,  5.28it/s]\n",
      "Validation: 100%|██████████| 3/3 [00:00<00:00, 11.35it/s]\n"
     ]
    },
    {
     "name": "stdout",
     "output_type": "stream",
     "text": [
      "Train Loss: 1.6315, Train Acc: 0.9154\n",
      "Val Loss: 2.3130, Val Acc: 0.2260\n",
      "Epoch 65/100\n"
     ]
    },
    {
     "name": "stderr",
     "output_type": "stream",
     "text": [
      "Training: 100%|██████████| 11/11 [00:02<00:00,  5.28it/s]\n",
      "Validation: 100%|██████████| 3/3 [00:00<00:00, 11.74it/s]\n"
     ]
    },
    {
     "name": "stdout",
     "output_type": "stream",
     "text": [
      "Train Loss: 1.6303, Train Acc: 0.9135\n",
      "Val Loss: 2.3152, Val Acc: 0.2252\n",
      "Epoch 66/100\n"
     ]
    },
    {
     "name": "stderr",
     "output_type": "stream",
     "text": [
      "Training: 100%|██████████| 11/11 [00:02<00:00,  5.29it/s]\n",
      "Validation: 100%|██████████| 3/3 [00:00<00:00, 11.85it/s]\n"
     ]
    },
    {
     "name": "stdout",
     "output_type": "stream",
     "text": [
      "Train Loss: 1.6330, Train Acc: 0.9120\n",
      "Val Loss: 2.3160, Val Acc: 0.2245\n",
      "Epoch 67/100\n"
     ]
    },
    {
     "name": "stderr",
     "output_type": "stream",
     "text": [
      "Training: 100%|██████████| 11/11 [00:02<00:00,  5.31it/s]\n",
      "Validation: 100%|██████████| 3/3 [00:00<00:00, 10.93it/s]\n"
     ]
    },
    {
     "name": "stdout",
     "output_type": "stream",
     "text": [
      "Train Loss: 1.6343, Train Acc: 0.9129\n",
      "Val Loss: 2.3159, Val Acc: 0.2237\n",
      "Epoch 68/100\n"
     ]
    },
    {
     "name": "stderr",
     "output_type": "stream",
     "text": [
      "Training: 100%|██████████| 11/11 [00:02<00:00,  5.25it/s]\n",
      "Validation: 100%|██████████| 3/3 [00:00<00:00,  9.38it/s]\n"
     ]
    },
    {
     "name": "stdout",
     "output_type": "stream",
     "text": [
      "Train Loss: 1.6295, Train Acc: 0.9154\n",
      "Val Loss: 2.3116, Val Acc: 0.2252\n",
      "Epoch 69/100\n"
     ]
    },
    {
     "name": "stderr",
     "output_type": "stream",
     "text": [
      "Training: 100%|██████████| 11/11 [00:02<00:00,  5.29it/s]\n",
      "Validation: 100%|██████████| 3/3 [00:00<00:00, 11.81it/s]\n"
     ]
    },
    {
     "name": "stdout",
     "output_type": "stream",
     "text": [
      "Train Loss: 1.6325, Train Acc: 0.9120\n",
      "Val Loss: 2.3205, Val Acc: 0.2170\n",
      "Epoch 70/100\n"
     ]
    },
    {
     "name": "stderr",
     "output_type": "stream",
     "text": [
      "Training: 100%|██████████| 11/11 [00:02<00:00,  5.28it/s]\n",
      "Validation: 100%|██████████| 3/3 [00:00<00:00, 11.18it/s]\n"
     ]
    },
    {
     "name": "stdout",
     "output_type": "stream",
     "text": [
      "Train Loss: 1.6300, Train Acc: 0.9144\n",
      "Val Loss: 2.3191, Val Acc: 0.2155\n",
      "Epoch 71/100\n"
     ]
    },
    {
     "name": "stderr",
     "output_type": "stream",
     "text": [
      "Training: 100%|██████████| 11/11 [00:02<00:00,  5.27it/s]\n",
      "Validation: 100%|██████████| 3/3 [00:00<00:00, 11.68it/s]\n"
     ]
    },
    {
     "name": "stdout",
     "output_type": "stream",
     "text": [
      "Train Loss: 1.6331, Train Acc: 0.9085\n",
      "Val Loss: 2.3218, Val Acc: 0.2140\n",
      "Epoch 72/100\n"
     ]
    },
    {
     "name": "stderr",
     "output_type": "stream",
     "text": [
      "Training: 100%|██████████| 11/11 [00:02<00:00,  5.31it/s]\n",
      "Validation: 100%|██████████| 3/3 [00:00<00:00, 11.91it/s]\n"
     ]
    },
    {
     "name": "stdout",
     "output_type": "stream",
     "text": [
      "Train Loss: 1.6297, Train Acc: 0.9150\n",
      "Val Loss: 2.3240, Val Acc: 0.2118\n",
      "Epoch 73/100\n"
     ]
    },
    {
     "name": "stderr",
     "output_type": "stream",
     "text": [
      "Training: 100%|██████████| 11/11 [00:02<00:00,  5.29it/s]\n",
      "Validation: 100%|██████████| 3/3 [00:00<00:00, 11.96it/s]\n"
     ]
    },
    {
     "name": "stdout",
     "output_type": "stream",
     "text": [
      "Train Loss: 1.6315, Train Acc: 0.9154\n",
      "Val Loss: 2.3237, Val Acc: 0.2133\n",
      "Epoch 74/100\n"
     ]
    },
    {
     "name": "stderr",
     "output_type": "stream",
     "text": [
      "Training: 100%|██████████| 11/11 [00:02<00:00,  5.07it/s]\n",
      "Validation: 100%|██████████| 3/3 [00:00<00:00, 11.40it/s]\n"
     ]
    },
    {
     "name": "stdout",
     "output_type": "stream",
     "text": [
      "Train Loss: 1.6306, Train Acc: 0.9133\n",
      "Val Loss: 2.3236, Val Acc: 0.2155\n",
      "Epoch 75/100\n"
     ]
    },
    {
     "name": "stderr",
     "output_type": "stream",
     "text": [
      "Training: 100%|██████████| 11/11 [00:02<00:00,  5.26it/s]\n",
      "Validation: 100%|██████████| 3/3 [00:00<00:00, 11.39it/s]\n"
     ]
    },
    {
     "name": "stdout",
     "output_type": "stream",
     "text": [
      "Train Loss: 1.6331, Train Acc: 0.9141\n",
      "Val Loss: 2.3181, Val Acc: 0.2192\n",
      "Epoch 76/100\n"
     ]
    },
    {
     "name": "stderr",
     "output_type": "stream",
     "text": [
      "Training: 100%|██████████| 11/11 [00:02<00:00,  5.25it/s]\n",
      "Validation: 100%|██████████| 3/3 [00:00<00:00, 12.24it/s]\n"
     ]
    },
    {
     "name": "stdout",
     "output_type": "stream",
     "text": [
      "Train Loss: 1.6288, Train Acc: 0.9183\n",
      "Val Loss: 2.3168, Val Acc: 0.2207\n",
      "Epoch 77/100\n"
     ]
    },
    {
     "name": "stderr",
     "output_type": "stream",
     "text": [
      "Training: 100%|██████████| 11/11 [00:02<00:00,  5.26it/s]\n",
      "Validation: 100%|██████████| 3/3 [00:00<00:00, 10.91it/s]\n"
     ]
    },
    {
     "name": "stdout",
     "output_type": "stream",
     "text": [
      "Train Loss: 1.6330, Train Acc: 0.9111\n",
      "Val Loss: 2.3126, Val Acc: 0.2230\n",
      "Epoch 78/100\n"
     ]
    },
    {
     "name": "stderr",
     "output_type": "stream",
     "text": [
      "Training: 100%|██████████| 11/11 [00:02<00:00,  5.29it/s]\n",
      "Validation: 100%|██████████| 3/3 [00:00<00:00, 10.39it/s]\n"
     ]
    },
    {
     "name": "stdout",
     "output_type": "stream",
     "text": [
      "Train Loss: 1.6306, Train Acc: 0.9128\n",
      "Val Loss: 2.3095, Val Acc: 0.2274\n",
      "Epoch 79/100\n"
     ]
    },
    {
     "name": "stderr",
     "output_type": "stream",
     "text": [
      "Training: 100%|██████████| 11/11 [00:02<00:00,  5.12it/s]\n",
      "Validation: 100%|██████████| 3/3 [00:00<00:00, 10.65it/s]\n"
     ]
    },
    {
     "name": "stdout",
     "output_type": "stream",
     "text": [
      "Train Loss: 1.6281, Train Acc: 0.9167\n",
      "Val Loss: 2.3017, Val Acc: 0.2364\n",
      "Epoch 80/100\n"
     ]
    },
    {
     "name": "stderr",
     "output_type": "stream",
     "text": [
      "Training: 100%|██████████| 11/11 [00:02<00:00,  5.12it/s]\n",
      "Validation: 100%|██████████| 3/3 [00:00<00:00, 10.70it/s]\n"
     ]
    },
    {
     "name": "stdout",
     "output_type": "stream",
     "text": [
      "Train Loss: 1.6311, Train Acc: 0.9144\n",
      "Val Loss: 2.3044, Val Acc: 0.2312\n",
      "Epoch 81/100\n"
     ]
    },
    {
     "name": "stderr",
     "output_type": "stream",
     "text": [
      "Training: 100%|██████████| 11/11 [00:02<00:00,  5.11it/s]\n",
      "Validation: 100%|██████████| 3/3 [00:00<00:00, 10.67it/s]\n"
     ]
    },
    {
     "name": "stdout",
     "output_type": "stream",
     "text": [
      "Train Loss: 1.6268, Train Acc: 0.9196\n",
      "Val Loss: 2.3033, Val Acc: 0.2342\n",
      "Epoch 82/100\n"
     ]
    },
    {
     "name": "stderr",
     "output_type": "stream",
     "text": [
      "Training: 100%|██████████| 11/11 [00:02<00:00,  5.27it/s]\n",
      "Validation: 100%|██████████| 3/3 [00:00<00:00, 11.28it/s]\n"
     ]
    },
    {
     "name": "stdout",
     "output_type": "stream",
     "text": [
      "Train Loss: 1.6302, Train Acc: 0.9150\n",
      "Val Loss: 2.3004, Val Acc: 0.2364\n",
      "Epoch 83/100\n"
     ]
    },
    {
     "name": "stderr",
     "output_type": "stream",
     "text": [
      "Training: 100%|██████████| 11/11 [00:02<00:00,  5.26it/s]\n",
      "Validation: 100%|██████████| 3/3 [00:00<00:00, 10.66it/s]\n"
     ]
    },
    {
     "name": "stdout",
     "output_type": "stream",
     "text": [
      "Train Loss: 1.6269, Train Acc: 0.9178\n",
      "Val Loss: 2.3019, Val Acc: 0.2342\n",
      "Epoch 84/100\n"
     ]
    },
    {
     "name": "stderr",
     "output_type": "stream",
     "text": [
      "Training: 100%|██████████| 11/11 [00:02<00:00,  5.24it/s]\n",
      "Validation: 100%|██████████| 3/3 [00:00<00:00, 11.99it/s]\n"
     ]
    },
    {
     "name": "stdout",
     "output_type": "stream",
     "text": [
      "Train Loss: 1.6314, Train Acc: 0.9135\n",
      "Val Loss: 2.2992, Val Acc: 0.2401\n",
      "Epoch 85/100\n"
     ]
    },
    {
     "name": "stderr",
     "output_type": "stream",
     "text": [
      "Training: 100%|██████████| 11/11 [00:02<00:00,  5.18it/s]\n",
      "Validation: 100%|██████████| 3/3 [00:00<00:00, 11.51it/s]\n"
     ]
    },
    {
     "name": "stdout",
     "output_type": "stream",
     "text": [
      "Train Loss: 1.6312, Train Acc: 0.9135\n",
      "Val Loss: 2.3006, Val Acc: 0.2364\n",
      "Epoch 86/100\n"
     ]
    },
    {
     "name": "stderr",
     "output_type": "stream",
     "text": [
      "Training: 100%|██████████| 11/11 [00:02<00:00,  5.26it/s]\n",
      "Validation: 100%|██████████| 3/3 [00:00<00:00, 11.92it/s]\n"
     ]
    },
    {
     "name": "stdout",
     "output_type": "stream",
     "text": [
      "Train Loss: 1.6285, Train Acc: 0.9161\n",
      "Val Loss: 2.3055, Val Acc: 0.2282\n",
      "Epoch 87/100\n"
     ]
    },
    {
     "name": "stderr",
     "output_type": "stream",
     "text": [
      "Training: 100%|██████████| 11/11 [00:02<00:00,  5.29it/s]\n",
      "Validation: 100%|██████████| 3/3 [00:00<00:00, 11.96it/s]\n"
     ]
    },
    {
     "name": "stdout",
     "output_type": "stream",
     "text": [
      "Train Loss: 1.6279, Train Acc: 0.9161\n",
      "Val Loss: 2.3082, Val Acc: 0.2282\n",
      "Epoch 88/100\n"
     ]
    },
    {
     "name": "stderr",
     "output_type": "stream",
     "text": [
      "Training: 100%|██████████| 11/11 [00:02<00:00,  5.29it/s]\n",
      "Validation: 100%|██████████| 3/3 [00:00<00:00, 11.61it/s]\n"
     ]
    },
    {
     "name": "stdout",
     "output_type": "stream",
     "text": [
      "Train Loss: 1.6267, Train Acc: 0.9185\n",
      "Val Loss: 2.3025, Val Acc: 0.2319\n",
      "Epoch 89/100\n"
     ]
    },
    {
     "name": "stderr",
     "output_type": "stream",
     "text": [
      "Training: 100%|██████████| 11/11 [00:02<00:00,  5.29it/s]\n",
      "Validation: 100%|██████████| 3/3 [00:00<00:00, 11.75it/s]\n"
     ]
    },
    {
     "name": "stdout",
     "output_type": "stream",
     "text": [
      "Train Loss: 1.6285, Train Acc: 0.9161\n",
      "Val Loss: 2.3091, Val Acc: 0.2252\n",
      "Epoch 90/100\n"
     ]
    },
    {
     "name": "stderr",
     "output_type": "stream",
     "text": [
      "Training: 100%|██████████| 11/11 [00:02<00:00,  5.09it/s]\n",
      "Validation: 100%|██████████| 3/3 [00:00<00:00, 11.99it/s]\n"
     ]
    },
    {
     "name": "stdout",
     "output_type": "stream",
     "text": [
      "Train Loss: 1.6259, Train Acc: 0.9191\n",
      "Val Loss: 2.3126, Val Acc: 0.2222\n",
      "Epoch 91/100\n"
     ]
    },
    {
     "name": "stderr",
     "output_type": "stream",
     "text": [
      "Training: 100%|██████████| 11/11 [00:02<00:00,  5.28it/s]\n",
      "Validation: 100%|██████████| 3/3 [00:00<00:00, 11.99it/s]\n"
     ]
    },
    {
     "name": "stdout",
     "output_type": "stream",
     "text": [
      "Train Loss: 1.6270, Train Acc: 0.9183\n",
      "Val Loss: 2.3163, Val Acc: 0.2192\n",
      "Epoch 92/100\n"
     ]
    },
    {
     "name": "stderr",
     "output_type": "stream",
     "text": [
      "Training: 100%|██████████| 11/11 [00:02<00:00,  5.27it/s]\n",
      "Validation: 100%|██████████| 3/3 [00:00<00:00, 11.47it/s]\n"
     ]
    },
    {
     "name": "stdout",
     "output_type": "stream",
     "text": [
      "Train Loss: 1.6264, Train Acc: 0.9169\n",
      "Val Loss: 2.3167, Val Acc: 0.2207\n",
      "Epoch 93/100\n"
     ]
    },
    {
     "name": "stderr",
     "output_type": "stream",
     "text": [
      "Training: 100%|██████████| 11/11 [00:02<00:00,  5.28it/s]\n",
      "Validation: 100%|██████████| 3/3 [00:00<00:00, 11.83it/s]\n"
     ]
    },
    {
     "name": "stdout",
     "output_type": "stream",
     "text": [
      "Train Loss: 1.6264, Train Acc: 0.9185\n",
      "Val Loss: 2.3163, Val Acc: 0.2200\n",
      "Epoch 94/100\n"
     ]
    },
    {
     "name": "stderr",
     "output_type": "stream",
     "text": [
      "Training: 100%|██████████| 11/11 [00:02<00:00,  5.29it/s]\n",
      "Validation: 100%|██████████| 3/3 [00:00<00:00, 11.90it/s]\n"
     ]
    },
    {
     "name": "stdout",
     "output_type": "stream",
     "text": [
      "Train Loss: 1.6289, Train Acc: 0.9163\n",
      "Val Loss: 2.3138, Val Acc: 0.2222\n",
      "Epoch 95/100\n"
     ]
    },
    {
     "name": "stderr",
     "output_type": "stream",
     "text": [
      "Training: 100%|██████████| 11/11 [00:02<00:00,  5.26it/s]\n",
      "Validation: 100%|██████████| 3/3 [00:00<00:00, 11.87it/s]\n"
     ]
    },
    {
     "name": "stdout",
     "output_type": "stream",
     "text": [
      "Train Loss: 1.6262, Train Acc: 0.9185\n",
      "Val Loss: 2.3140, Val Acc: 0.2222\n",
      "Epoch 96/100\n"
     ]
    },
    {
     "name": "stderr",
     "output_type": "stream",
     "text": [
      "Training: 100%|██████████| 11/11 [00:02<00:00,  5.13it/s]\n",
      "Validation: 100%|██████████| 3/3 [00:00<00:00, 11.83it/s]\n"
     ]
    },
    {
     "name": "stdout",
     "output_type": "stream",
     "text": [
      "Train Loss: 1.6292, Train Acc: 0.9167\n",
      "Val Loss: 2.3150, Val Acc: 0.2215\n",
      "Epoch 97/100\n"
     ]
    },
    {
     "name": "stderr",
     "output_type": "stream",
     "text": [
      "Training: 100%|██████████| 11/11 [00:02<00:00,  5.25it/s]\n",
      "Validation: 100%|██████████| 3/3 [00:00<00:00, 11.85it/s]\n"
     ]
    },
    {
     "name": "stdout",
     "output_type": "stream",
     "text": [
      "Train Loss: 1.6257, Train Acc: 0.9196\n",
      "Val Loss: 2.3139, Val Acc: 0.2230\n",
      "Epoch 98/100\n"
     ]
    },
    {
     "name": "stderr",
     "output_type": "stream",
     "text": [
      "Training: 100%|██████████| 11/11 [00:02<00:00,  5.27it/s]\n",
      "Validation: 100%|██████████| 3/3 [00:00<00:00, 11.53it/s]\n"
     ]
    },
    {
     "name": "stdout",
     "output_type": "stream",
     "text": [
      "Train Loss: 1.6255, Train Acc: 0.9196\n",
      "Val Loss: 2.3125, Val Acc: 0.2267\n",
      "Epoch 99/100\n"
     ]
    },
    {
     "name": "stderr",
     "output_type": "stream",
     "text": [
      "Training: 100%|██████████| 11/11 [00:02<00:00,  5.25it/s]\n",
      "Validation: 100%|██████████| 3/3 [00:00<00:00, 11.72it/s]\n"
     ]
    },
    {
     "name": "stdout",
     "output_type": "stream",
     "text": [
      "Train Loss: 1.6280, Train Acc: 0.9155\n",
      "Val Loss: 2.3107, Val Acc: 0.2260\n",
      "Epoch 100/100\n"
     ]
    },
    {
     "name": "stderr",
     "output_type": "stream",
     "text": [
      "Training: 100%|██████████| 11/11 [00:02<00:00,  5.28it/s]\n",
      "Validation: 100%|██████████| 3/3 [00:00<00:00, 11.64it/s]"
     ]
    },
    {
     "name": "stdout",
     "output_type": "stream",
     "text": [
      "Train Loss: 1.6256, Train Acc: 0.9213\n",
      "Val Loss: 2.3079, Val Acc: 0.2319\n"
     ]
    },
    {
     "name": "stderr",
     "output_type": "stream",
     "text": [
      "\n"
     ]
    }
   ],
   "execution_count": 9,
   "source": [
    "import torch\n",
    "import torch.nn as nn\n",
    "import torch.optim as optim\n",
    "from tqdm import tqdm\n",
    "import os\n",
    "\n",
    "# Training function\n",
    "def train_model(model, train_loader, val_loader, num_epochs, device, save_dir):\n",
    "    # Define loss function and optimizer\n",
    "    criterion = nn.CrossEntropyLoss()\n",
    "    optimizer = optim.Adam(model.parameters(), lr=0.0001)\n",
    "    scheduler = optim.lr_scheduler.ReduceLROnPlateau(optimizer, mode='min', patience=5, verbose=True)\n",
    "    \n",
    "    # Move model to the device\n",
    "    model = model.to(device)\n",
    "    \n",
    "    # Track accuracy and loss\n",
    "    history = {\"train_loss\": [], \"val_loss\": [], \"train_acc\": [], \"val_acc\": []}\n",
    "\n",
    "    for epoch in range(num_epochs):\n",
    "        print(f\"Epoch {epoch + 1}/{num_epochs}\")\n",
    "        \n",
    "        # Training phase\n",
    "        model.train()\n",
    "        running_loss = 0.0\n",
    "        correct = 0\n",
    "        total = 0\n",
    "\n",
    "        for inputs, labels in tqdm(train_loader, desc=\"Training\"):\n",
    "            inputs = [x.to(device) for x in inputs]\n",
    "            labels = labels.to(device)\n",
    "\n",
    "            # Zero the parameter gradients\n",
    "            optimizer.zero_grad()\n",
    "\n",
    "            # Forward pass\n",
    "            outputs = model(inputs)\n",
    "            loss = criterion(outputs, labels)\n",
    "            running_loss += loss.item()\n",
    "\n",
    "            # Backward pass and optimize\n",
    "            loss.backward()\n",
    "            optimizer.step()\n",
    "\n",
    "            # Calculate training accuracy\n",
    "            _, predicted = torch.max(outputs, 1)\n",
    "            total += labels.size(0)\n",
    "            correct += (predicted == labels).sum().item()\n",
    "\n",
    "        train_loss = running_loss / len(train_loader)\n",
    "        train_acc = correct / total\n",
    "        history[\"train_loss\"].append(train_loss)\n",
    "        history[\"train_acc\"].append(train_acc)\n",
    "\n",
    "        # Validation phase\n",
    "        model.eval()\n",
    "        val_loss = 0.0\n",
    "        correct = 0\n",
    "        total = 0\n",
    "        with torch.no_grad():\n",
    "            for inputs, labels in tqdm(val_loader, desc=\"Validation\"):\n",
    "                inputs = [x.to(device) for x in inputs]\n",
    "                labels = labels.to(device)\n",
    "\n",
    "                # Forward pass\n",
    "                outputs = model(inputs)\n",
    "                loss = criterion(outputs, labels)\n",
    "                val_loss += loss.item()\n",
    "\n",
    "                # Calculate validation accuracy\n",
    "                _, predicted = torch.max(outputs, 1)\n",
    "                total += labels.size(0)\n",
    "                correct += (predicted == labels).sum().item()\n",
    "\n",
    "        val_loss /= len(val_loader)\n",
    "        val_acc = correct / total\n",
    "        history[\"val_loss\"].append(val_loss)\n",
    "        history[\"val_acc\"].append(val_acc)\n",
    "\n",
    "        # Print results\n",
    "        print(f\"Train Loss: {train_loss:.4f}, Train Acc: {train_acc:.4f}\")\n",
    "        print(f\"Val Loss: {val_loss:.4f}, Val Acc: {val_acc:.4f}\")\n",
    "\n",
    "        # Adjust learning rate\n",
    "        # scheduler.step(val_loss)\n",
    "\n",
    "        # Save model and history\n",
    "        torch.save(model.state_dict(), os.path.join(save_dir, f\"model_epoch_{epoch + 1}.pth\"))\n",
    "        torch.save(history, os.path.join(save_dir, \"history.pth\"))\n",
    "\n",
    "    return history\n",
    "\n",
    "# Set up device and directories\n",
    "device = torch.device(\"cuda\" if torch.cuda.is_available() else \"cpu\")\n",
    "print(\"Current Training Session is Running on: \", device)\n",
    "save_dir = \"saved_models\"\n",
    "os.makedirs(save_dir, exist_ok=True)\n",
    "\n",
    "# Load data\n",
    "train_feature_file = \"train_features.npz\"\n",
    "batch_size = 512\n",
    "train_loader, val_loader, label_mapping = create_dataloaders(train_feature_file, batch_size)\n",
    "\n",
    "# Train the model\n",
    "num_epochs = 100\n",
    "history = train_model(model, train_loader, val_loader, num_epochs, device, save_dir)"
   ],
   "id": "ccce91b3bd9a5bb0"
  },
  {
   "metadata": {},
   "cell_type": "markdown",
   "source": [
    "# Accuracy and Loss"
   ],
   "id": "697075ef7305018c"
  },
  {
   "metadata": {
    "ExecuteTime": {
     "end_time": "2024-12-04T14:50:01.331767291Z",
     "start_time": "2024-12-04T14:50:00.038176728Z"
    }
   },
   "cell_type": "code",
   "outputs": [
    {
     "data": {
      "text/plain": "<Figure size 1000x500 with 1 Axes>",
      "image/png": "[encoded data removed]"
     },
     "metadata": {},
     "output_type": "display_data"
    },
    {
     "data": {
      "text/plain": "<Figure size 1000x500 with 1 Axes>",
      "image/png": "[encoded data removed]"
     },
     "metadata": {},
     "output_type": "display_data"
    }
   ],
   "execution_count": 7,
   "source": [
    "import torch\n",
    "import matplotlib.pyplot as plt\n",
    "\n",
    "# Load training history\n",
    "history_path = \"saved_models/history.pth\"\n",
    "history = torch.load(history_path)\n",
    "\n",
    "# Plot loss curves\n",
    "plt.figure(figsize=(10, 5))\n",
    "plt.plot(history['train_loss'], label='Train Loss')\n",
    "plt.plot(history['val_loss'], label='Validation Loss')\n",
    "plt.title('Loss Curve')\n",
    "plt.xlabel('Epoch')\n",
    "plt.ylabel('Loss')\n",
    "plt.legend()\n",
    "plt.grid()\n",
    "plt.show()\n",
    "\n",
    "# Plot accuracy curves\n",
    "plt.figure(figsize=(10, 5))\n",
    "plt.plot(history['train_acc'], label='Train Accuracy')\n",
    "plt.plot(history['val_acc'], label='Validation Accuracy')\n",
    "plt.title('Accuracy Curve')\n",
    "plt.xlabel('Epoch')\n",
    "plt.ylabel('Accuracy')\n",
    "plt.legend()\n",
    "plt.grid()\n",
    "plt.show()"
   ],
   "id": "3bfc320bbd2154c9"
  },
  {
   "metadata": {},
   "cell_type": "markdown",
   "source": [
    "# Testset Evaluation"
   ],
   "id": "a4ba8f288062611"
  },
  {
   "metadata": {
    "ExecuteTime": {
     "end_time": "2024-12-04T14:50:11.775579097Z",
     "start_time": "2024-12-04T14:50:11.533621472Z"
    }
   },
   "cell_type": "code",
   "outputs": [
    {
     "ename": "IndexError",
     "evalue": "index 0 is out of bounds for axis 0 with size 0",
     "output_type": "error",
     "traceback": [
      "\u001B[0;31m---------------------------------------------------------------------------\u001B[0m",
      "\u001B[0;31mIndexError\u001B[0m                                Traceback (most recent call last)",
      "Cell \u001B[0;32mIn[8], line 5\u001B[0m\n\u001B[1;32m      3\u001B[0m \u001B[38;5;66;03m# Load the test features and labels\u001B[39;00m\n\u001B[1;32m      4\u001B[0m test_feature_file \u001B[38;5;241m=\u001B[39m \u001B[38;5;124m\"\u001B[39m\u001B[38;5;124mtest_features_part1.npz\u001B[39m\u001B[38;5;124m\"\u001B[39m  \u001B[38;5;66;03m# Use Part1 or Part2 as needed\u001B[39;00m\n\u001B[0;32m----> 5\u001B[0m test_dataset \u001B[38;5;241m=\u001B[39m \u001B[43mIRMASDataset\u001B[49m\u001B[43m(\u001B[49m\u001B[43mtest_feature_file\u001B[49m\u001B[43m,\u001B[49m\u001B[43m \u001B[49m\u001B[43mtrain\u001B[49m\u001B[38;5;241;43m=\u001B[39;49m\u001B[38;5;28;43;01mFalse\u001B[39;49;00m\u001B[43m)\u001B[49m\n\u001B[1;32m      6\u001B[0m test_loader \u001B[38;5;241m=\u001B[39m DataLoader(test_dataset, batch_size\u001B[38;5;241m=\u001B[39m\u001B[38;5;241m32\u001B[39m, shuffle\u001B[38;5;241m=\u001B[39m\u001B[38;5;28;01mFalse\u001B[39;00m)\n\u001B[1;32m      8\u001B[0m \u001B[38;5;66;03m# Load the trained model\u001B[39;00m\n",
      "Cell \u001B[0;32mIn[4], line 16\u001B[0m, in \u001B[0;36mIRMASDataset.__init__\u001B[0;34m(self, feature_file, train, transform)\u001B[0m\n\u001B[1;32m     14\u001B[0m \u001B[38;5;66;03m# Encode labels for training data (single-label encoding)\u001B[39;00m\n\u001B[1;32m     15\u001B[0m le \u001B[38;5;241m=\u001B[39m LabelEncoder()\n\u001B[0;32m---> 16\u001B[0m \u001B[38;5;28;01mif\u001B[39;00m \u001B[38;5;28misinstance\u001B[39m(\u001B[38;5;28;43mself\u001B[39;49m\u001B[38;5;241;43m.\u001B[39;49m\u001B[43mlabels\u001B[49m\u001B[43m[\u001B[49m\u001B[38;5;241;43m0\u001B[39;49m\u001B[43m]\u001B[49m, \u001B[38;5;28mlist\u001B[39m):  \u001B[38;5;66;03m# Multi-label for testing data\u001B[39;00m\n\u001B[1;32m     17\u001B[0m     \u001B[38;5;28mself\u001B[39m\u001B[38;5;241m.\u001B[39mlabels \u001B[38;5;241m=\u001B[39m [le\u001B[38;5;241m.\u001B[39mfit_transform(label) \u001B[38;5;28;01mfor\u001B[39;00m label \u001B[38;5;129;01min\u001B[39;00m \u001B[38;5;28mself\u001B[39m\u001B[38;5;241m.\u001B[39mlabels]\n\u001B[1;32m     18\u001B[0m \u001B[38;5;28;01melse\u001B[39;00m:  \u001B[38;5;66;03m# Single-label for training data\u001B[39;00m\n",
      "\u001B[0;31mIndexError\u001B[0m: index 0 is out of bounds for axis 0 with size 0"
     ]
    }
   ],
   "execution_count": 8,
   "source": [
    "from sklearn.metrics import precision_score, recall_score, f1_score, classification_report\n",
    "\n",
    "# Load the test features and labels\n",
    "test_feature_file = \"test_features_part1.npz\"  # Use Part1 or Part2 as needed\n",
    "test_dataset = IRMASDataset(test_feature_file, train=False)\n",
    "test_loader = DataLoader(test_dataset, batch_size=32, shuffle=False)\n",
    "\n",
    "# Load the trained model\n",
    "model_path = \"saved_models/model_epoch_20.pth\"  # Use the best epoch\n",
    "model.load_state_dict(torch.load(model_path))\n",
    "model = model.to(device)\n",
    "model.eval()\n",
    "\n",
    "# Evaluate the model on the test set\n",
    "all_labels = []\n",
    "all_preds = []\n",
    "\n",
    "with torch.no_grad():\n",
    "    for inputs, labels in tqdm(test_loader, desc=\"Testing\"):\n",
    "        inputs = [x.to(device) for x in inputs]\n",
    "        labels = labels.to(device)\n",
    "\n",
    "        # Forward pass\n",
    "        outputs = model(inputs)\n",
    "        _, predicted = torch.max(outputs, 1)\n",
    "\n",
    "        # Store predictions and true labels\n",
    "        all_labels.extend(labels.cpu().numpy())\n",
    "        all_preds.extend(predicted.cpu().numpy())\n",
    "\n",
    "# Calculate performance metrics\n",
    "precision = precision_score(all_labels, all_preds, average='macro')\n",
    "recall = recall_score(all_labels, all_preds, average='macro')\n",
    "f1 = f1_score(all_labels, all_preds, average='macro')\n",
    "\n",
    "print(\"Precision:\", precision)\n",
    "print(\"Recall:\", recall)\n",
    "print(\"F1-Score:\", f1)\n",
    "print(\"\\nClassification Report:\\n\", classification_report(all_labels, all_preds, target_names=list(label_mapping.keys())))"
   ],
   "id": "2b986bc24a253889"
  },
  {
   "cell_type": "code",
   "execution_count": null,
   "outputs": [],
   "source": [],
   "metadata": {
    "collapsed": false
   }
  }
 ],
 "metadata": {
  "kernelspec": {
   "display_name": "Python 3",
   "language": "python",
   "name": "python3"
  },
  "language_info": {
   "codemirror_mode": {
    "name": "ipython",
    "version": 2
   },
   "file_extension": ".py",
   "mimetype": "text/x-python",
   "name": "python",
   "nbconvert_exporter": "python",
   "pygments_lexer": "ipython2",
   "version": "2.7.6"
  }
 },
 "nbformat": 4,
 "nbformat_minor": 5
}
